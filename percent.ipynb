{
 "cells": [
  {
   "cell_type": "code",
   "execution_count": 60,
   "metadata": {},
   "outputs": [],
   "source": [
    "import pandas as pd\n",
    "import numpy as np\n",
    "import datetime\n",
    "from tqdm import tqdm\n",
    "\n",
    "PATH = \"data\\\\wallet_urfu.parquet.gzip\"\n",
    "RFM_PATH = \"data\\\\rfm.parquet.gzip\""
   ]
  },
  {
   "cell_type": "code",
   "execution_count": 2,
   "metadata": {},
   "outputs": [],
   "source": [
    "data = pd.read_parquet(PATH)"
   ]
  },
  {
   "cell_type": "code",
   "execution_count": 3,
   "metadata": {},
   "outputs": [
    {
     "data": {
      "text/html": [
       "<div>\n",
       "<style scoped>\n",
       "    .dataframe tbody tr th:only-of-type {\n",
       "        vertical-align: middle;\n",
       "    }\n",
       "\n",
       "    .dataframe tbody tr th {\n",
       "        vertical-align: top;\n",
       "    }\n",
       "\n",
       "    .dataframe thead th {\n",
       "        text-align: right;\n",
       "    }\n",
       "</style>\n",
       "<table border=\"1\" class=\"dataframe\">\n",
       "  <thead>\n",
       "    <tr style=\"text-align: right;\">\n",
       "      <th></th>\n",
       "      <th>partner</th>\n",
       "      <th>rep_date</th>\n",
       "      <th>monetary</th>\n",
       "    </tr>\n",
       "  </thead>\n",
       "  <tbody>\n",
       "    <tr>\n",
       "      <th>0</th>\n",
       "      <td>468726</td>\n",
       "      <td>2016-01-02</td>\n",
       "      <td>2.673749e-11</td>\n",
       "    </tr>\n",
       "    <tr>\n",
       "      <th>1</th>\n",
       "      <td>134145</td>\n",
       "      <td>2016-01-02</td>\n",
       "      <td>1.069500e-12</td>\n",
       "    </tr>\n",
       "    <tr>\n",
       "      <th>2</th>\n",
       "      <td>66774</td>\n",
       "      <td>2016-01-02</td>\n",
       "      <td>2.228576e-12</td>\n",
       "    </tr>\n",
       "    <tr>\n",
       "      <th>3</th>\n",
       "      <td>178928</td>\n",
       "      <td>2016-01-02</td>\n",
       "      <td>8.730611e-11</td>\n",
       "    </tr>\n",
       "    <tr>\n",
       "      <th>4</th>\n",
       "      <td>679693</td>\n",
       "      <td>2016-01-02</td>\n",
       "      <td>3.492244e-11</td>\n",
       "    </tr>\n",
       "  </tbody>\n",
       "</table>\n",
       "</div>"
      ],
      "text/plain": [
       "   partner    rep_date      monetary\n",
       "0   468726  2016-01-02  2.673749e-11\n",
       "1   134145  2016-01-02  1.069500e-12\n",
       "2    66774  2016-01-02  2.228576e-12\n",
       "3   178928  2016-01-02  8.730611e-11\n",
       "4   679693  2016-01-02  3.492244e-11"
      ]
     },
     "execution_count": 3,
     "metadata": {},
     "output_type": "execute_result"
    }
   ],
   "source": [
    "data.head()"
   ]
  },
  {
   "cell_type": "code",
   "execution_count": 42,
   "metadata": {},
   "outputs": [],
   "source": [
    "last_two_months = data[data['rep_date']>=datetime.date(2022, 12, 23)]\n",
    "other = data[data['rep_date']<datetime.date(2022, 12, 23)]"
   ]
  },
  {
   "cell_type": "code",
   "execution_count": 43,
   "metadata": {},
   "outputs": [],
   "source": [
    "grouped = other.groupby('partner').max()"
   ]
  },
  {
   "cell_type": "code",
   "execution_count": 54,
   "metadata": {},
   "outputs": [
    {
     "data": {
      "text/html": [
       "<div>\n",
       "<style scoped>\n",
       "    .dataframe tbody tr th:only-of-type {\n",
       "        vertical-align: middle;\n",
       "    }\n",
       "\n",
       "    .dataframe tbody tr th {\n",
       "        vertical-align: top;\n",
       "    }\n",
       "\n",
       "    .dataframe thead th {\n",
       "        text-align: right;\n",
       "    }\n",
       "</style>\n",
       "<table border=\"1\" class=\"dataframe\">\n",
       "  <thead>\n",
       "    <tr style=\"text-align: right;\">\n",
       "      <th></th>\n",
       "      <th>partner</th>\n",
       "      <th>rep_date</th>\n",
       "      <th>monetary</th>\n",
       "    </tr>\n",
       "  </thead>\n",
       "  <tbody>\n",
       "    <tr>\n",
       "      <th>1223635</th>\n",
       "      <td>3</td>\n",
       "      <td>2016-04-01</td>\n",
       "      <td>1.985107e-27</td>\n",
       "    </tr>\n",
       "    <tr>\n",
       "      <th>2711210</th>\n",
       "      <td>3</td>\n",
       "      <td>2016-07-01</td>\n",
       "      <td>3.273979e-08</td>\n",
       "    </tr>\n",
       "    <tr>\n",
       "      <th>9245757</th>\n",
       "      <td>3</td>\n",
       "      <td>2017-08-04</td>\n",
       "      <td>3.604379e-08</td>\n",
       "    </tr>\n",
       "    <tr>\n",
       "      <th>18931117</th>\n",
       "      <td>3</td>\n",
       "      <td>2019-01-29</td>\n",
       "      <td>2.849265e-08</td>\n",
       "    </tr>\n",
       "    <tr>\n",
       "      <th>42268138</th>\n",
       "      <td>3</td>\n",
       "      <td>2022-03-11</td>\n",
       "      <td>1.330801e-09</td>\n",
       "    </tr>\n",
       "    <tr>\n",
       "      <th>42986569</th>\n",
       "      <td>3</td>\n",
       "      <td>2022-04-12</td>\n",
       "      <td>1.742465e-09</td>\n",
       "    </tr>\n",
       "    <tr>\n",
       "      <th>45260212</th>\n",
       "      <td>3</td>\n",
       "      <td>2022-07-13</td>\n",
       "      <td>1.283296e-09</td>\n",
       "    </tr>\n",
       "  </tbody>\n",
       "</table>\n",
       "</div>"
      ],
      "text/plain": [
       "          partner    rep_date      monetary\n",
       "1223635         3  2016-04-01  1.985107e-27\n",
       "2711210         3  2016-07-01  3.273979e-08\n",
       "9245757         3  2017-08-04  3.604379e-08\n",
       "18931117        3  2019-01-29  2.849265e-08\n",
       "42268138        3  2022-03-11  1.330801e-09\n",
       "42986569        3  2022-04-12  1.742465e-09\n",
       "45260212        3  2022-07-13  1.283296e-09"
      ]
     },
     "execution_count": 54,
     "metadata": {},
     "output_type": "execute_result"
    }
   ],
   "source": [
    "data[data['partner']==3]"
   ]
  },
  {
   "cell_type": "code",
   "execution_count": 44,
   "metadata": {},
   "outputs": [],
   "source": [
    "old_trans = grouped[grouped['rep_date']<datetime.date(2022, 11, 23)]"
   ]
  },
  {
   "cell_type": "code",
   "execution_count": 70,
   "metadata": {},
   "outputs": [
    {
     "data": {
      "text/plain": [
       "1262795"
      ]
     },
     "execution_count": 70,
     "metadata": {},
     "output_type": "execute_result"
    }
   ],
   "source": [
    "len(last_two_months)"
   ]
  },
  {
   "cell_type": "code",
   "execution_count": 68,
   "metadata": {},
   "outputs": [
    {
     "name": "stderr",
     "output_type": "stream",
     "text": [
      "100%|██████████| 1262795/1262795 [02:25<00:00, 8671.36it/s]\n"
     ]
    },
    {
     "data": {
      "text/plain": [
       "91579"
      ]
     },
     "execution_count": 68,
     "metadata": {},
     "output_type": "execute_result"
    }
   ],
   "source": [
    "count = 0\n",
    "for partner in tqdm(old_trans.index):\n",
    "    if partner in last_two_months:\n",
    "        count += 1\n",
    "\n",
    "count"
   ]
  },
  {
   "cell_type": "code",
   "execution_count": 46,
   "metadata": {},
   "outputs": [
    {
     "data": {
      "text/html": [
       "<div>\n",
       "<style scoped>\n",
       "    .dataframe tbody tr th:only-of-type {\n",
       "        vertical-align: middle;\n",
       "    }\n",
       "\n",
       "    .dataframe tbody tr th {\n",
       "        vertical-align: top;\n",
       "    }\n",
       "\n",
       "    .dataframe thead th {\n",
       "        text-align: right;\n",
       "    }\n",
       "</style>\n",
       "<table border=\"1\" class=\"dataframe\">\n",
       "  <thead>\n",
       "    <tr style=\"text-align: right;\">\n",
       "      <th></th>\n",
       "      <th>partner</th>\n",
       "      <th>rep_date</th>\n",
       "      <th>monetary</th>\n",
       "    </tr>\n",
       "  </thead>\n",
       "  <tbody>\n",
       "    <tr>\n",
       "      <th>0</th>\n",
       "      <td>468726</td>\n",
       "      <td>2016-01-02</td>\n",
       "      <td>2.673749e-11</td>\n",
       "    </tr>\n",
       "    <tr>\n",
       "      <th>1</th>\n",
       "      <td>134145</td>\n",
       "      <td>2016-01-02</td>\n",
       "      <td>1.069500e-12</td>\n",
       "    </tr>\n",
       "    <tr>\n",
       "      <th>2</th>\n",
       "      <td>66774</td>\n",
       "      <td>2016-01-02</td>\n",
       "      <td>2.228576e-12</td>\n",
       "    </tr>\n",
       "    <tr>\n",
       "      <th>3</th>\n",
       "      <td>178928</td>\n",
       "      <td>2016-01-02</td>\n",
       "      <td>8.730611e-11</td>\n",
       "    </tr>\n",
       "    <tr>\n",
       "      <th>4</th>\n",
       "      <td>679693</td>\n",
       "      <td>2016-01-02</td>\n",
       "      <td>3.492244e-11</td>\n",
       "    </tr>\n",
       "    <tr>\n",
       "      <th>...</th>\n",
       "      <td>...</td>\n",
       "      <td>...</td>\n",
       "      <td>...</td>\n",
       "    </tr>\n",
       "    <tr>\n",
       "      <th>49947837</th>\n",
       "      <td>407047</td>\n",
       "      <td>2022-12-22</td>\n",
       "      <td>2.298049e-12</td>\n",
       "    </tr>\n",
       "    <tr>\n",
       "      <th>49947838</th>\n",
       "      <td>155081</td>\n",
       "      <td>2022-12-22</td>\n",
       "      <td>6.547958e-11</td>\n",
       "    </tr>\n",
       "    <tr>\n",
       "      <th>49947839</th>\n",
       "      <td>459632</td>\n",
       "      <td>2022-12-22</td>\n",
       "      <td>2.182653e-12</td>\n",
       "    </tr>\n",
       "    <tr>\n",
       "      <th>49947840</th>\n",
       "      <td>821241</td>\n",
       "      <td>2022-12-22</td>\n",
       "      <td>1.623588e-12</td>\n",
       "    </tr>\n",
       "    <tr>\n",
       "      <th>49947841</th>\n",
       "      <td>1343539</td>\n",
       "      <td>2022-12-22</td>\n",
       "      <td>1.213985e-11</td>\n",
       "    </tr>\n",
       "  </tbody>\n",
       "</table>\n",
       "<p>49947842 rows × 3 columns</p>\n",
       "</div>"
      ],
      "text/plain": [
       "          partner    rep_date      monetary\n",
       "0          468726  2016-01-02  2.673749e-11\n",
       "1          134145  2016-01-02  1.069500e-12\n",
       "2           66774  2016-01-02  2.228576e-12\n",
       "3          178928  2016-01-02  8.730611e-11\n",
       "4          679693  2016-01-02  3.492244e-11\n",
       "...           ...         ...           ...\n",
       "49947837   407047  2022-12-22  2.298049e-12\n",
       "49947838   155081  2022-12-22  6.547958e-11\n",
       "49947839   459632  2022-12-22  2.182653e-12\n",
       "49947840   821241  2022-12-22  1.623588e-12\n",
       "49947841  1343539  2022-12-22  1.213985e-11\n",
       "\n",
       "[49947842 rows x 3 columns]"
      ]
     },
     "execution_count": 46,
     "metadata": {},
     "output_type": "execute_result"
    }
   ],
   "source": [
    "other"
   ]
  },
  {
   "cell_type": "code",
   "execution_count": 40,
   "metadata": {},
   "outputs": [
    {
     "data": {
      "text/html": [
       "<div>\n",
       "<style scoped>\n",
       "    .dataframe tbody tr th:only-of-type {\n",
       "        vertical-align: middle;\n",
       "    }\n",
       "\n",
       "    .dataframe tbody tr th {\n",
       "        vertical-align: top;\n",
       "    }\n",
       "\n",
       "    .dataframe thead th {\n",
       "        text-align: right;\n",
       "    }\n",
       "</style>\n",
       "<table border=\"1\" class=\"dataframe\">\n",
       "  <thead>\n",
       "    <tr style=\"text-align: right;\">\n",
       "      <th></th>\n",
       "      <th>rep_date</th>\n",
       "      <th>monetary</th>\n",
       "    </tr>\n",
       "    <tr>\n",
       "      <th>partner</th>\n",
       "      <th></th>\n",
       "      <th></th>\n",
       "    </tr>\n",
       "  </thead>\n",
       "  <tbody>\n",
       "    <tr>\n",
       "      <th>4</th>\n",
       "      <td>2022-12-26</td>\n",
       "      <td>6.308761e-12</td>\n",
       "    </tr>\n",
       "    <tr>\n",
       "      <th>22</th>\n",
       "      <td>2022-12-28</td>\n",
       "      <td>6.547958e-11</td>\n",
       "    </tr>\n",
       "    <tr>\n",
       "      <th>29</th>\n",
       "      <td>2023-01-13</td>\n",
       "      <td>8.730611e-12</td>\n",
       "    </tr>\n",
       "    <tr>\n",
       "      <th>49</th>\n",
       "      <td>2023-01-04</td>\n",
       "      <td>4.365305e-12</td>\n",
       "    </tr>\n",
       "    <tr>\n",
       "      <th>68</th>\n",
       "      <td>2023-01-16</td>\n",
       "      <td>1.309592e-09</td>\n",
       "    </tr>\n",
       "    <tr>\n",
       "      <th>...</th>\n",
       "      <td>...</td>\n",
       "      <td>...</td>\n",
       "    </tr>\n",
       "    <tr>\n",
       "      <th>1689641</th>\n",
       "      <td>2023-01-22</td>\n",
       "      <td>2.542790e-11</td>\n",
       "    </tr>\n",
       "    <tr>\n",
       "      <th>1689820</th>\n",
       "      <td>2023-01-22</td>\n",
       "      <td>5.238366e-12</td>\n",
       "    </tr>\n",
       "    <tr>\n",
       "      <th>1690232</th>\n",
       "      <td>2023-01-21</td>\n",
       "      <td>7.215391e-10</td>\n",
       "    </tr>\n",
       "    <tr>\n",
       "      <th>1690366</th>\n",
       "      <td>2023-01-22</td>\n",
       "      <td>6.329693e-14</td>\n",
       "    </tr>\n",
       "    <tr>\n",
       "      <th>1690436</th>\n",
       "      <td>2023-01-22</td>\n",
       "      <td>1.986214e-11</td>\n",
       "    </tr>\n",
       "  </tbody>\n",
       "</table>\n",
       "<p>65833 rows × 2 columns</p>\n",
       "</div>"
      ],
      "text/plain": [
       "           rep_date      monetary\n",
       "partner                          \n",
       "4        2022-12-26  6.308761e-12\n",
       "22       2022-12-28  6.547958e-11\n",
       "29       2023-01-13  8.730611e-12\n",
       "49       2023-01-04  4.365305e-12\n",
       "68       2023-01-16  1.309592e-09\n",
       "...             ...           ...\n",
       "1689641  2023-01-22  2.542790e-11\n",
       "1689820  2023-01-22  5.238366e-12\n",
       "1690232  2023-01-21  7.215391e-10\n",
       "1690366  2023-01-22  6.329693e-14\n",
       "1690436  2023-01-22  1.986214e-11\n",
       "\n",
       "[65833 rows x 2 columns]"
      ]
     },
     "execution_count": 40,
     "metadata": {},
     "output_type": "execute_result"
    }
   ],
   "source": []
  },
  {
   "cell_type": "code",
   "execution_count": null,
   "metadata": {},
   "outputs": [],
   "source": []
  }
 ],
 "metadata": {
  "kernelspec": {
   "display_name": ".venv",
   "language": "python",
   "name": "python3"
  },
  "language_info": {
   "codemirror_mode": {
    "name": "ipython",
    "version": 3
   },
   "file_extension": ".py",
   "mimetype": "text/x-python",
   "name": "python",
   "nbconvert_exporter": "python",
   "pygments_lexer": "ipython3",
   "version": "3.9.12"
  },
  "orig_nbformat": 4
 },
 "nbformat": 4,
 "nbformat_minor": 2
}
