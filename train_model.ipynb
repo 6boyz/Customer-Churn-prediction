{
 "cells": [
  {
   "cell_type": "code",
   "execution_count": 1,
   "metadata": {},
   "outputs": [
    {
     "name": "stderr",
     "output_type": "stream",
     "text": [
      "WARNING (aesara.tensor.blas): Using NumPy C-API based implementation for BLAS functions.\n"
     ]
    }
   ],
   "source": [
    "import pandas as pd\n",
    "from btyd import BetaGeoModel\n",
    "import cloudpickle\n",
    "from old_train_test_data_split import OldTrainTestSplitter"
   ]
  },
  {
   "cell_type": "code",
   "execution_count": 2,
   "metadata": {},
   "outputs": [
    {
     "name": "stdout",
     "output_type": "stream",
     "text": [
      "02:31:31 Save splitted rfm\n",
      "02:31:31 Getting splited alive partners rfm\n",
      "02:31:31 Alive partners calculation\n",
      "02:31:54 Creating RFM\n",
      "02:35:17 Data spliting\n"
     ]
    }
   ],
   "source": [
    "OldTrainTestSplitter(days_before_die=90).save_splited_rfm(train=\"./data/rfm.train.all.without.90.days.parquet.gzip\", test=\"./data/rfm.test.all.without.90.days.parquet.gzip\")"
   ]
  },
  {
   "cell_type": "code",
   "execution_count": 3,
   "metadata": {},
   "outputs": [],
   "source": [
    "rfm = pd.read_parquet(\"./data/rfm.train.all.without.90.days.parquet.gzip\")"
   ]
  },
  {
   "cell_type": "code",
   "execution_count": 4,
   "metadata": {},
   "outputs": [
    {
     "name": "stderr",
     "output_type": "stream",
     "text": [
      "Auto-assigning NUTS sampler...\n",
      "Initializing NUTS using jitter+adapt_diag...\n",
      "Initializing NUTS using jitter+adapt_diag...\n"
     ]
    },
    {
     "name": "stderr",
     "output_type": "stream",
     "text": [
      "Sampling 4 chains for 1_200 tune and 1_200 draw iterations (4_800 + 4_800 draws total) took 23183 seconds.\n"
     ]
    },
    {
     "data": {
      "text/plain": [
       "<btyd.BetaGeoModel: Parameters {'alpha': array([20.1]), 'r': array([0.6]), 'a': array([1.1]), 'b': array([26.1])} estimated with 1138017 customers.>"
      ]
     },
     "execution_count": 4,
     "metadata": {},
     "output_type": "execute_result"
    }
   ],
   "source": [
    "bgm = BetaGeoModel().fit(rfm)\n",
    "bgm"
   ]
  },
  {
   "cell_type": "code",
   "execution_count": 6,
   "metadata": {},
   "outputs": [
    {
     "data": {
      "text/plain": [
       "37635313"
      ]
     },
     "execution_count": 6,
     "metadata": {},
     "output_type": "execute_result"
    }
   ],
   "source": [
    "model = cloudpickle.dumps(bgm)\n",
    "file = open(\"./model/beta.get.model.all.but.without.90.days.pkl\", \"wb\")\n",
    "file.write(model)"
   ]
  }
 ],
 "metadata": {
  "kernelspec": {
   "display_name": ".venv",
   "language": "python",
   "name": "python3"
  },
  "language_info": {
   "codemirror_mode": {
    "name": "ipython",
    "version": 3
   },
   "file_extension": ".py",
   "mimetype": "text/x-python",
   "name": "python",
   "nbconvert_exporter": "python",
   "pygments_lexer": "ipython3",
   "version": "3.10.6"
  },
  "orig_nbformat": 4
 },
 "nbformat": 4,
 "nbformat_minor": 2
}
