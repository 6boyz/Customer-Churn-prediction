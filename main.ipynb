{
 "cells": [
  {
   "cell_type": "code",
   "execution_count": 1,
   "metadata": {},
   "outputs": [],
   "source": [
    "import pandas as pd\n",
    "from consts import PATH, TEST_PATH, TRAIN_PATH\n",
    "from train_test_data_split import TrainTestSplitter"
   ]
  },
  {
   "cell_type": "code",
   "execution_count": 2,
   "metadata": {},
   "outputs": [
    {
     "name": "stdout",
     "output_type": "stream",
     "text": [
      "22:35:29 Save splitted rfm\n",
      "22:35:29 Getting splited alive partners rfm\n",
      "22:35:29 Alive partners calculation\n",
      "22:35:40 Creating RFM\n",
      "22:36:40 Data spliting\n"
     ]
    }
   ],
   "source": [
    "TrainTestSplitter(left_part_days=180).save_splited_rfm()"
   ]
  },
  {
   "cell_type": "code",
   "execution_count": 3,
   "metadata": {},
   "outputs": [
    {
     "data": {
      "text/html": [
       "<div>\n",
       "<style scoped>\n",
       "    .dataframe tbody tr th:only-of-type {\n",
       "        vertical-align: middle;\n",
       "    }\n",
       "\n",
       "    .dataframe tbody tr th {\n",
       "        vertical-align: top;\n",
       "    }\n",
       "\n",
       "    .dataframe thead th {\n",
       "        text-align: right;\n",
       "    }\n",
       "</style>\n",
       "<table border=\"1\" class=\"dataframe\">\n",
       "  <thead>\n",
       "    <tr style=\"text-align: right;\">\n",
       "      <th></th>\n",
       "      <th>monetary_value</th>\n",
       "      <th>first_buy</th>\n",
       "      <th>last_buy</th>\n",
       "      <th>count</th>\n",
       "      <th>alive</th>\n",
       "      <th>frequency</th>\n",
       "      <th>recency</th>\n",
       "      <th>T</th>\n",
       "    </tr>\n",
       "    <tr>\n",
       "      <th>partner</th>\n",
       "      <th></th>\n",
       "      <th></th>\n",
       "      <th></th>\n",
       "      <th></th>\n",
       "      <th></th>\n",
       "      <th></th>\n",
       "      <th></th>\n",
       "      <th></th>\n",
       "    </tr>\n",
       "  </thead>\n",
       "  <tbody>\n",
       "    <tr>\n",
       "      <th>0</th>\n",
       "      <td>5.698337e-10</td>\n",
       "      <td>2021-08-27</td>\n",
       "      <td>2022-01-27</td>\n",
       "      <td>8</td>\n",
       "      <td>True</td>\n",
       "      <td>7</td>\n",
       "      <td>153</td>\n",
       "      <td>545</td>\n",
       "    </tr>\n",
       "    <tr>\n",
       "      <th>1</th>\n",
       "      <td>1.712412e-10</td>\n",
       "      <td>2021-08-23</td>\n",
       "      <td>2022-01-27</td>\n",
       "      <td>17</td>\n",
       "      <td>True</td>\n",
       "      <td>16</td>\n",
       "      <td>157</td>\n",
       "      <td>549</td>\n",
       "    </tr>\n",
       "    <tr>\n",
       "      <th>2</th>\n",
       "      <td>2.016771e-09</td>\n",
       "      <td>2021-09-25</td>\n",
       "      <td>2021-09-25</td>\n",
       "      <td>1</td>\n",
       "      <td>True</td>\n",
       "      <td>0</td>\n",
       "      <td>0</td>\n",
       "      <td>516</td>\n",
       "    </tr>\n",
       "    <tr>\n",
       "      <th>4</th>\n",
       "      <td>1.748972e-09</td>\n",
       "      <td>2021-10-19</td>\n",
       "      <td>2022-02-04</td>\n",
       "      <td>5</td>\n",
       "      <td>False</td>\n",
       "      <td>4</td>\n",
       "      <td>108</td>\n",
       "      <td>492</td>\n",
       "    </tr>\n",
       "    <tr>\n",
       "      <th>9</th>\n",
       "      <td>1.858965e-10</td>\n",
       "      <td>2021-08-22</td>\n",
       "      <td>2022-01-10</td>\n",
       "      <td>7</td>\n",
       "      <td>True</td>\n",
       "      <td>6</td>\n",
       "      <td>141</td>\n",
       "      <td>550</td>\n",
       "    </tr>\n",
       "    <tr>\n",
       "      <th>...</th>\n",
       "      <td>...</td>\n",
       "      <td>...</td>\n",
       "      <td>...</td>\n",
       "      <td>...</td>\n",
       "      <td>...</td>\n",
       "      <td>...</td>\n",
       "      <td>...</td>\n",
       "      <td>...</td>\n",
       "    </tr>\n",
       "    <tr>\n",
       "      <th>1229908</th>\n",
       "      <td>1.445898e-12</td>\n",
       "      <td>2022-02-01</td>\n",
       "      <td>2022-02-01</td>\n",
       "      <td>1</td>\n",
       "      <td>True</td>\n",
       "      <td>0</td>\n",
       "      <td>0</td>\n",
       "      <td>387</td>\n",
       "    </tr>\n",
       "    <tr>\n",
       "      <th>1229910</th>\n",
       "      <td>6.024121e-14</td>\n",
       "      <td>2022-02-01</td>\n",
       "      <td>2022-02-01</td>\n",
       "      <td>1</td>\n",
       "      <td>True</td>\n",
       "      <td>0</td>\n",
       "      <td>0</td>\n",
       "      <td>387</td>\n",
       "    </tr>\n",
       "    <tr>\n",
       "      <th>1229914</th>\n",
       "      <td>4.461669e-13</td>\n",
       "      <td>2021-10-25</td>\n",
       "      <td>2022-02-01</td>\n",
       "      <td>2</td>\n",
       "      <td>False</td>\n",
       "      <td>1</td>\n",
       "      <td>99</td>\n",
       "      <td>486</td>\n",
       "    </tr>\n",
       "    <tr>\n",
       "      <th>1229915</th>\n",
       "      <td>7.281730e-12</td>\n",
       "      <td>2021-09-12</td>\n",
       "      <td>2022-02-01</td>\n",
       "      <td>8</td>\n",
       "      <td>True</td>\n",
       "      <td>7</td>\n",
       "      <td>142</td>\n",
       "      <td>529</td>\n",
       "    </tr>\n",
       "    <tr>\n",
       "      <th>1229916</th>\n",
       "      <td>6.024121e-14</td>\n",
       "      <td>2021-10-25</td>\n",
       "      <td>2021-10-25</td>\n",
       "      <td>1</td>\n",
       "      <td>False</td>\n",
       "      <td>0</td>\n",
       "      <td>0</td>\n",
       "      <td>486</td>\n",
       "    </tr>\n",
       "  </tbody>\n",
       "</table>\n",
       "<p>347497 rows × 8 columns</p>\n",
       "</div>"
      ],
      "text/plain": [
       "         monetary_value   first_buy    last_buy  count  alive  frequency  \\\n",
       "partner                                                                    \n",
       "0          5.698337e-10  2021-08-27  2022-01-27      8   True          7   \n",
       "1          1.712412e-10  2021-08-23  2022-01-27     17   True         16   \n",
       "2          2.016771e-09  2021-09-25  2021-09-25      1   True          0   \n",
       "4          1.748972e-09  2021-10-19  2022-02-04      5  False          4   \n",
       "9          1.858965e-10  2021-08-22  2022-01-10      7   True          6   \n",
       "...                 ...         ...         ...    ...    ...        ...   \n",
       "1229908    1.445898e-12  2022-02-01  2022-02-01      1   True          0   \n",
       "1229910    6.024121e-14  2022-02-01  2022-02-01      1   True          0   \n",
       "1229914    4.461669e-13  2021-10-25  2022-02-01      2  False          1   \n",
       "1229915    7.281730e-12  2021-09-12  2022-02-01      8   True          7   \n",
       "1229916    6.024121e-14  2021-10-25  2021-10-25      1  False          0   \n",
       "\n",
       "         recency    T  \n",
       "partner                \n",
       "0            153  545  \n",
       "1            157  549  \n",
       "2              0  516  \n",
       "4            108  492  \n",
       "9            141  550  \n",
       "...          ...  ...  \n",
       "1229908        0  387  \n",
       "1229910        0  387  \n",
       "1229914       99  486  \n",
       "1229915      142  529  \n",
       "1229916        0  486  \n",
       "\n",
       "[347497 rows x 8 columns]"
      ]
     },
     "execution_count": 3,
     "metadata": {},
     "output_type": "execute_result"
    }
   ],
   "source": [
    "data = pd.read_parquet(TRAIN_PATH)\n",
    "data"
   ]
  },
  {
   "cell_type": "code",
   "execution_count": 4,
   "metadata": {},
   "outputs": [
    {
     "data": {
      "text/plain": [
       "179"
      ]
     },
     "execution_count": 4,
     "metadata": {},
     "output_type": "execute_result"
    }
   ],
   "source": [
    "(data['first_buy'].max() - data['first_buy'].min()).days"
   ]
  },
  {
   "cell_type": "code",
   "execution_count": 9,
   "metadata": {},
   "outputs": [],
   "source": [
    "def calc_destribution(data: dict) -> dict:\n",
    "    data_sum = sum(data.values())\n",
    "    distribution = {}\n",
    "    for key, value in data.items():\n",
    "        distribution[key] = f\"{round(value / data_sum, 3) * 100:.1f}%\"\n",
    "    return distribution"
   ]
  },
  {
   "cell_type": "code",
   "execution_count": 11,
   "metadata": {},
   "outputs": [
    {
     "data": {
      "text/plain": [
       "{True: '79.4%', False: '20.6%'}"
      ]
     },
     "execution_count": 11,
     "metadata": {},
     "output_type": "execute_result"
    }
   ],
   "source": [
    "last_data_date = data['first_buy'].max()\n",
    "data['pred_alive'] = data['last_buy'].apply(lambda x: (last_data_date - x).days < 59)\n",
    "data['corr_pred'] = data['pred_alive'] == data['alive']\n",
    "calc_destribution(data['corr_pred'].value_counts().to_dict())"
   ]
  }
 ],
 "metadata": {
  "kernelspec": {
   "display_name": ".venv",
   "language": "python",
   "name": "python3"
  },
  "language_info": {
   "codemirror_mode": {
    "name": "ipython",
    "version": 3
   },
   "file_extension": ".py",
   "mimetype": "text/x-python",
   "name": "python",
   "nbconvert_exporter": "python",
   "pygments_lexer": "ipython3",
   "version": "3.10.11"
  },
  "orig_nbformat": 4
 },
 "nbformat": 4,
 "nbformat_minor": 2
}
