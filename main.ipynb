{
 "cells": [
  {
   "cell_type": "code",
   "execution_count": 9,
   "metadata": {},
   "outputs": [],
   "source": [
    "import pandas as pd\n",
    "from consts import PATH, TEST_PATH, TRAIN_PATH\n",
    "from train_test_data_split import TrainTestSplitter"
   ]
  },
  {
   "cell_type": "code",
   "execution_count": 10,
   "metadata": {},
   "outputs": [
    {
     "name": "stdout",
     "output_type": "stream",
     "text": [
      "21:41:38 Save splitted rfm\n",
      "21:41:38 Getting splited alive partners rfm\n",
      "21:41:38 Alive partners calculation\n"
     ]
    },
    {
     "ename": "KeyboardInterrupt",
     "evalue": "",
     "output_type": "error",
     "traceback": [
      "\u001b[1;31m---------------------------------------------------------------------------\u001b[0m",
      "\u001b[1;31mKeyboardInterrupt\u001b[0m                         Traceback (most recent call last)",
      "Cell \u001b[1;32mIn[10], line 1\u001b[0m\n\u001b[1;32m----> 1\u001b[0m TrainTestSplitter(left_part_days\u001b[39m=\u001b[39;49m\u001b[39m180\u001b[39;49m)\u001b[39m.\u001b[39;49msave_splited_rfm()\n",
      "File \u001b[1;32md:\\Project2\\Customer-Churn-prediction\\train_test_data_split.py:135\u001b[0m, in \u001b[0;36mTrainTestSplitter.save_splited_rfm\u001b[1;34m(self, train_path, test_path)\u001b[0m\n\u001b[0;32m    133\u001b[0m \u001b[39mdef\u001b[39;00m \u001b[39msave_splited_rfm\u001b[39m(\u001b[39mself\u001b[39m, train_path: \u001b[39mstr\u001b[39m \u001b[39m=\u001b[39m \u001b[39mNone\u001b[39;00m, test_path: \u001b[39mstr\u001b[39m \u001b[39m=\u001b[39m \u001b[39mNone\u001b[39;00m) \u001b[39m-\u001b[39m\u001b[39m>\u001b[39m \u001b[39mNone\u001b[39;00m:\n\u001b[0;32m    134\u001b[0m     print_log(\u001b[39m\"\u001b[39m\u001b[39mSave splitted rfm\u001b[39m\u001b[39m\"\u001b[39m)\n\u001b[1;32m--> 135\u001b[0m     \u001b[39mself\u001b[39;49m\u001b[39m.\u001b[39;49m_save_data(\u001b[39mself\u001b[39;49m\u001b[39m.\u001b[39;49mget_splited_rfm, train_path, test_path)\n",
      "File \u001b[1;32md:\\Project2\\Customer-Churn-prediction\\train_test_data_split.py:117\u001b[0m, in \u001b[0;36mTrainTestSplitter._save_data\u001b[1;34m(self, get_data_func, train_path, test_path)\u001b[0m\n\u001b[0;32m    115\u001b[0m \u001b[39mif\u001b[39;00m \u001b[39mnot\u001b[39;00m test_path:\n\u001b[0;32m    116\u001b[0m     test_path \u001b[39m=\u001b[39m TEST_PATH\n\u001b[1;32m--> 117\u001b[0m Y, X \u001b[39m=\u001b[39m get_data_func()\u001b[39m.\u001b[39mvalues()\n\u001b[0;32m    118\u001b[0m Y\u001b[39m.\u001b[39mto_parquet(test_path)\n\u001b[0;32m    119\u001b[0m X\u001b[39m.\u001b[39mto_parquet(train_path)\n",
      "File \u001b[1;32md:\\Project2\\Customer-Churn-prediction\\train_test_data_split.py:127\u001b[0m, in \u001b[0;36mTrainTestSplitter.get_splited_rfm\u001b[1;34m(self)\u001b[0m\n\u001b[0;32m    125\u001b[0m \u001b[39mdef\u001b[39;00m \u001b[39mget_splited_rfm\u001b[39m(\u001b[39mself\u001b[39m) \u001b[39m-\u001b[39m\u001b[39m>\u001b[39m \u001b[39mdict\u001b[39m[\u001b[39m\"\u001b[39m\u001b[39mY\u001b[39m\u001b[39m\"\u001b[39m : pd\u001b[39m.\u001b[39mDataFrame, \u001b[39m\"\u001b[39m\u001b[39mX\u001b[39m\u001b[39m\"\u001b[39m : pd\u001b[39m.\u001b[39mDataFrame]:\n\u001b[0;32m    126\u001b[0m     print_log(\u001b[39m\"\u001b[39m\u001b[39mGetting splited alive partners rfm\u001b[39m\u001b[39m\"\u001b[39m)\n\u001b[1;32m--> 127\u001b[0m     \u001b[39mreturn\u001b[39;00m \u001b[39mself\u001b[39m\u001b[39m.\u001b[39m_split(\u001b[39mself\u001b[39m\u001b[39m.\u001b[39m_create_rfm(\u001b[39mself\u001b[39;49m\u001b[39m.\u001b[39;49m_get_alive_raw()))\n",
      "File \u001b[1;32md:\\Project2\\Customer-Churn-prediction\\train_test_data_split.py:101\u001b[0m, in \u001b[0;36mTrainTestSplitter._get_alive_raw\u001b[1;34m(self)\u001b[0m\n\u001b[0;32m    100\u001b[0m \u001b[39mdef\u001b[39;00m \u001b[39m_get_alive_raw\u001b[39m(\u001b[39mself\u001b[39m) \u001b[39m-\u001b[39m\u001b[39m>\u001b[39m pd\u001b[39m.\u001b[39mDataFrame:\n\u001b[1;32m--> 101\u001b[0m     alive \u001b[39m=\u001b[39m \u001b[39mself\u001b[39;49m\u001b[39m.\u001b[39;49m_calc_alive()\n\u001b[0;32m    102\u001b[0m     data \u001b[39m=\u001b[39m pd\u001b[39m.\u001b[39mread_parquet(PATH)\n\u001b[0;32m    103\u001b[0m     data \u001b[39m=\u001b[39m data[\n\u001b[0;32m    104\u001b[0m         (data[\u001b[39m\"\u001b[39m\u001b[39mrep_date\u001b[39m\u001b[39m\"\u001b[39m] \u001b[39m<\u001b[39m \u001b[39mself\u001b[39m\u001b[39m.\u001b[39m_unreturn_date)\n\u001b[0;32m    105\u001b[0m         \u001b[39m&\u001b[39m (data[\u001b[39m\"\u001b[39m\u001b[39mrep_date\u001b[39m\u001b[39m\"\u001b[39m] \u001b[39m>\u001b[39m\u001b[39m=\u001b[39m \u001b[39mself\u001b[39m\u001b[39m.\u001b[39m_left_date)\n\u001b[0;32m    106\u001b[0m     ]\n",
      "File \u001b[1;32md:\\Project2\\Customer-Churn-prediction\\train_test_data_split.py:59\u001b[0m, in \u001b[0;36mTrainTestSplitter._calc_alive\u001b[1;34m(self)\u001b[0m\n\u001b[0;32m     54\u001b[0m print_log(\u001b[39m\"\u001b[39m\u001b[39mAlive partners calculation\u001b[39m\u001b[39m\"\u001b[39m)\n\u001b[0;32m     55\u001b[0m data \u001b[39m=\u001b[39m pd\u001b[39m.\u001b[39mread_parquet(PATH)\n\u001b[0;32m     57\u001b[0m alive_partners \u001b[39m=\u001b[39m \u001b[39mset\u001b[39m(\n\u001b[0;32m     58\u001b[0m     data[\n\u001b[1;32m---> 59\u001b[0m         (data[\u001b[39m\"\u001b[39;49m\u001b[39mrep_date\u001b[39;49m\u001b[39m\"\u001b[39;49m] \u001b[39m>\u001b[39;49m\u001b[39m=\u001b[39;49m \u001b[39mself\u001b[39;49m\u001b[39m.\u001b[39;49m_unreturn_date)\n\u001b[0;32m     60\u001b[0m         \u001b[39m&\u001b[39m (data[\u001b[39m\"\u001b[39m\u001b[39mrep_date\u001b[39m\u001b[39m\"\u001b[39m] \u001b[39m<\u001b[39m \u001b[39mself\u001b[39m\u001b[39m.\u001b[39m_right_date)\n\u001b[0;32m     61\u001b[0m     ][\u001b[39m\"\u001b[39m\u001b[39mpartner\u001b[39m\u001b[39m\"\u001b[39m]\u001b[39m.\u001b[39mvalues\n\u001b[0;32m     62\u001b[0m )\n\u001b[0;32m     63\u001b[0m \u001b[39mreturn\u001b[39;00m alive_partners\n",
      "File \u001b[1;32md:\\Project2\\Customer-Churn-prediction\\.venv\\lib\\site-packages\\pandas\\core\\ops\\common.py:72\u001b[0m, in \u001b[0;36m_unpack_zerodim_and_defer.<locals>.new_method\u001b[1;34m(self, other)\u001b[0m\n\u001b[0;32m     68\u001b[0m             \u001b[39mreturn\u001b[39;00m \u001b[39mNotImplemented\u001b[39m\n\u001b[0;32m     70\u001b[0m other \u001b[39m=\u001b[39m item_from_zerodim(other)\n\u001b[1;32m---> 72\u001b[0m \u001b[39mreturn\u001b[39;00m method(\u001b[39mself\u001b[39;49m, other)\n",
      "File \u001b[1;32md:\\Project2\\Customer-Churn-prediction\\.venv\\lib\\site-packages\\pandas\\core\\arraylike.py:62\u001b[0m, in \u001b[0;36mOpsMixin.__ge__\u001b[1;34m(self, other)\u001b[0m\n\u001b[0;32m     60\u001b[0m \u001b[39m@unpack_zerodim_and_defer\u001b[39m(\u001b[39m\"\u001b[39m\u001b[39m__ge__\u001b[39m\u001b[39m\"\u001b[39m)\n\u001b[0;32m     61\u001b[0m \u001b[39mdef\u001b[39;00m \u001b[39m__ge__\u001b[39m(\u001b[39mself\u001b[39m, other):\n\u001b[1;32m---> 62\u001b[0m     \u001b[39mreturn\u001b[39;00m \u001b[39mself\u001b[39;49m\u001b[39m.\u001b[39;49m_cmp_method(other, operator\u001b[39m.\u001b[39;49mge)\n",
      "File \u001b[1;32md:\\Project2\\Customer-Churn-prediction\\.venv\\lib\\site-packages\\pandas\\core\\series.py:6243\u001b[0m, in \u001b[0;36mSeries._cmp_method\u001b[1;34m(self, other, op)\u001b[0m\n\u001b[0;32m   6240\u001b[0m rvalues \u001b[39m=\u001b[39m extract_array(other, extract_numpy\u001b[39m=\u001b[39m\u001b[39mTrue\u001b[39;00m, extract_range\u001b[39m=\u001b[39m\u001b[39mTrue\u001b[39;00m)\n\u001b[0;32m   6242\u001b[0m \u001b[39mwith\u001b[39;00m np\u001b[39m.\u001b[39merrstate(\u001b[39mall\u001b[39m\u001b[39m=\u001b[39m\u001b[39m\"\u001b[39m\u001b[39mignore\u001b[39m\u001b[39m\"\u001b[39m):\n\u001b[1;32m-> 6243\u001b[0m     res_values \u001b[39m=\u001b[39m ops\u001b[39m.\u001b[39;49mcomparison_op(lvalues, rvalues, op)\n\u001b[0;32m   6245\u001b[0m \u001b[39mreturn\u001b[39;00m \u001b[39mself\u001b[39m\u001b[39m.\u001b[39m_construct_result(res_values, name\u001b[39m=\u001b[39mres_name)\n",
      "File \u001b[1;32md:\\Project2\\Customer-Churn-prediction\\.venv\\lib\\site-packages\\pandas\\core\\ops\\array_ops.py:287\u001b[0m, in \u001b[0;36mcomparison_op\u001b[1;34m(left, right, op)\u001b[0m\n\u001b[0;32m    284\u001b[0m     \u001b[39mreturn\u001b[39;00m invalid_comparison(lvalues, rvalues, op)\n\u001b[0;32m    286\u001b[0m \u001b[39melif\u001b[39;00m is_object_dtype(lvalues\u001b[39m.\u001b[39mdtype) \u001b[39mor\u001b[39;00m \u001b[39misinstance\u001b[39m(rvalues, \u001b[39mstr\u001b[39m):\n\u001b[1;32m--> 287\u001b[0m     res_values \u001b[39m=\u001b[39m comp_method_OBJECT_ARRAY(op, lvalues, rvalues)\n\u001b[0;32m    289\u001b[0m \u001b[39melse\u001b[39;00m:\n\u001b[0;32m    290\u001b[0m     res_values \u001b[39m=\u001b[39m _na_arithmetic_op(lvalues, rvalues, op, is_cmp\u001b[39m=\u001b[39m\u001b[39mTrue\u001b[39;00m)\n",
      "File \u001b[1;32md:\\Project2\\Customer-Churn-prediction\\.venv\\lib\\site-packages\\pandas\\core\\ops\\array_ops.py:76\u001b[0m, in \u001b[0;36mcomp_method_OBJECT_ARRAY\u001b[1;34m(op, x, y)\u001b[0m\n\u001b[0;32m     74\u001b[0m \u001b[39melse\u001b[39;00m:\n\u001b[0;32m     75\u001b[0m     result \u001b[39m=\u001b[39m libops\u001b[39m.\u001b[39mscalar_compare(x\u001b[39m.\u001b[39mravel(), y, op)\n\u001b[1;32m---> 76\u001b[0m \u001b[39mreturn\u001b[39;00m result\u001b[39m.\u001b[39;49mreshape(x\u001b[39m.\u001b[39mshape)\n",
      "\u001b[1;31mKeyboardInterrupt\u001b[0m: "
     ]
    }
   ],
   "source": [
    "TrainTestSplitter(left_part_days=180).save_splited_rfm()"
   ]
  },
  {
   "cell_type": "code",
   "execution_count": 12,
   "metadata": {},
   "outputs": [
    {
     "data": {
      "text/html": [
       "<div>\n",
       "<style scoped>\n",
       "    .dataframe tbody tr th:only-of-type {\n",
       "        vertical-align: middle;\n",
       "    }\n",
       "\n",
       "    .dataframe tbody tr th {\n",
       "        vertical-align: top;\n",
       "    }\n",
       "\n",
       "    .dataframe thead th {\n",
       "        text-align: right;\n",
       "    }\n",
       "</style>\n",
       "<table border=\"1\" class=\"dataframe\">\n",
       "  <thead>\n",
       "    <tr style=\"text-align: right;\">\n",
       "      <th></th>\n",
       "      <th>monetary_value</th>\n",
       "      <th>first_buy</th>\n",
       "      <th>last_buy</th>\n",
       "      <th>count</th>\n",
       "      <th>alive</th>\n",
       "      <th>frequency</th>\n",
       "      <th>recency</th>\n",
       "      <th>T</th>\n",
       "    </tr>\n",
       "    <tr>\n",
       "      <th>partner</th>\n",
       "      <th></th>\n",
       "      <th></th>\n",
       "      <th></th>\n",
       "      <th></th>\n",
       "      <th></th>\n",
       "      <th></th>\n",
       "      <th></th>\n",
       "      <th></th>\n",
       "    </tr>\n",
       "  </thead>\n",
       "  <tbody>\n",
       "    <tr>\n",
       "      <th>0</th>\n",
       "      <td>5.698337e-10</td>\n",
       "      <td>2021-08-27</td>\n",
       "      <td>2022-01-27</td>\n",
       "      <td>8</td>\n",
       "      <td>True</td>\n",
       "      <td>7</td>\n",
       "      <td>153</td>\n",
       "      <td>545</td>\n",
       "    </tr>\n",
       "    <tr>\n",
       "      <th>1</th>\n",
       "      <td>1.712412e-10</td>\n",
       "      <td>2021-08-23</td>\n",
       "      <td>2022-01-27</td>\n",
       "      <td>17</td>\n",
       "      <td>True</td>\n",
       "      <td>16</td>\n",
       "      <td>157</td>\n",
       "      <td>549</td>\n",
       "    </tr>\n",
       "    <tr>\n",
       "      <th>2</th>\n",
       "      <td>2.016771e-09</td>\n",
       "      <td>2021-09-25</td>\n",
       "      <td>2021-09-25</td>\n",
       "      <td>1</td>\n",
       "      <td>True</td>\n",
       "      <td>0</td>\n",
       "      <td>0</td>\n",
       "      <td>516</td>\n",
       "    </tr>\n",
       "    <tr>\n",
       "      <th>4</th>\n",
       "      <td>1.748972e-09</td>\n",
       "      <td>2021-10-19</td>\n",
       "      <td>2022-02-04</td>\n",
       "      <td>5</td>\n",
       "      <td>False</td>\n",
       "      <td>4</td>\n",
       "      <td>108</td>\n",
       "      <td>492</td>\n",
       "    </tr>\n",
       "    <tr>\n",
       "      <th>9</th>\n",
       "      <td>1.858965e-10</td>\n",
       "      <td>2021-08-22</td>\n",
       "      <td>2022-01-10</td>\n",
       "      <td>7</td>\n",
       "      <td>True</td>\n",
       "      <td>6</td>\n",
       "      <td>141</td>\n",
       "      <td>550</td>\n",
       "    </tr>\n",
       "    <tr>\n",
       "      <th>...</th>\n",
       "      <td>...</td>\n",
       "      <td>...</td>\n",
       "      <td>...</td>\n",
       "      <td>...</td>\n",
       "      <td>...</td>\n",
       "      <td>...</td>\n",
       "      <td>...</td>\n",
       "      <td>...</td>\n",
       "    </tr>\n",
       "    <tr>\n",
       "      <th>1229908</th>\n",
       "      <td>1.445898e-12</td>\n",
       "      <td>2022-02-01</td>\n",
       "      <td>2022-02-01</td>\n",
       "      <td>1</td>\n",
       "      <td>True</td>\n",
       "      <td>0</td>\n",
       "      <td>0</td>\n",
       "      <td>387</td>\n",
       "    </tr>\n",
       "    <tr>\n",
       "      <th>1229910</th>\n",
       "      <td>6.024121e-14</td>\n",
       "      <td>2022-02-01</td>\n",
       "      <td>2022-02-01</td>\n",
       "      <td>1</td>\n",
       "      <td>True</td>\n",
       "      <td>0</td>\n",
       "      <td>0</td>\n",
       "      <td>387</td>\n",
       "    </tr>\n",
       "    <tr>\n",
       "      <th>1229914</th>\n",
       "      <td>4.461669e-13</td>\n",
       "      <td>2021-10-25</td>\n",
       "      <td>2022-02-01</td>\n",
       "      <td>2</td>\n",
       "      <td>False</td>\n",
       "      <td>1</td>\n",
       "      <td>99</td>\n",
       "      <td>486</td>\n",
       "    </tr>\n",
       "    <tr>\n",
       "      <th>1229915</th>\n",
       "      <td>7.281730e-12</td>\n",
       "      <td>2021-09-12</td>\n",
       "      <td>2022-02-01</td>\n",
       "      <td>8</td>\n",
       "      <td>True</td>\n",
       "      <td>7</td>\n",
       "      <td>142</td>\n",
       "      <td>529</td>\n",
       "    </tr>\n",
       "    <tr>\n",
       "      <th>1229916</th>\n",
       "      <td>6.024121e-14</td>\n",
       "      <td>2021-10-25</td>\n",
       "      <td>2021-10-25</td>\n",
       "      <td>1</td>\n",
       "      <td>False</td>\n",
       "      <td>0</td>\n",
       "      <td>0</td>\n",
       "      <td>486</td>\n",
       "    </tr>\n",
       "  </tbody>\n",
       "</table>\n",
       "<p>347497 rows × 8 columns</p>\n",
       "</div>"
      ],
      "text/plain": [
       "         monetary_value   first_buy    last_buy  count  alive  frequency  \\\n",
       "partner                                                                    \n",
       "0          5.698337e-10  2021-08-27  2022-01-27      8   True          7   \n",
       "1          1.712412e-10  2021-08-23  2022-01-27     17   True         16   \n",
       "2          2.016771e-09  2021-09-25  2021-09-25      1   True          0   \n",
       "4          1.748972e-09  2021-10-19  2022-02-04      5  False          4   \n",
       "9          1.858965e-10  2021-08-22  2022-01-10      7   True          6   \n",
       "...                 ...         ...         ...    ...    ...        ...   \n",
       "1229908    1.445898e-12  2022-02-01  2022-02-01      1   True          0   \n",
       "1229910    6.024121e-14  2022-02-01  2022-02-01      1   True          0   \n",
       "1229914    4.461669e-13  2021-10-25  2022-02-01      2  False          1   \n",
       "1229915    7.281730e-12  2021-09-12  2022-02-01      8   True          7   \n",
       "1229916    6.024121e-14  2021-10-25  2021-10-25      1  False          0   \n",
       "\n",
       "         recency    T  \n",
       "partner                \n",
       "0            153  545  \n",
       "1            157  549  \n",
       "2              0  516  \n",
       "4            108  492  \n",
       "9            141  550  \n",
       "...          ...  ...  \n",
       "1229908        0  387  \n",
       "1229910        0  387  \n",
       "1229914       99  486  \n",
       "1229915      142  529  \n",
       "1229916        0  486  \n",
       "\n",
       "[347497 rows x 8 columns]"
      ]
     },
     "execution_count": 12,
     "metadata": {},
     "output_type": "execute_result"
    }
   ],
   "source": [
    "new_data = pd.read_parquet(\"data/train1.parquet.gzip\")\n",
    "new_data"
   ]
  },
  {
   "cell_type": "code",
   "execution_count": 13,
   "metadata": {},
   "outputs": [
    {
     "data": {
      "text/plain": [
       "179"
      ]
     },
     "execution_count": 13,
     "metadata": {},
     "output_type": "execute_result"
    }
   ],
   "source": [
    "(new_data['first_buy'].max() - new_data['first_buy'].min()).days"
   ]
  },
  {
   "cell_type": "code",
   "execution_count": 14,
   "metadata": {},
   "outputs": [],
   "source": [
    "def calc_destribution(data: dict) -> dict:\n",
    "    data_sum = sum(data.values())\n",
    "    distribution = {}\n",
    "    for key, value in data.items():\n",
    "        distribution[key] = f\"{round(value / data_sum, 3) * 100:.1f}%\"\n",
    "    return distribution"
   ]
  },
  {
   "cell_type": "code",
   "execution_count": 19,
   "metadata": {},
   "outputs": [],
   "source": [
    "from sklearn.metrics import recall_score, f1_score, precision_score, roc_auc_score"
   ]
  },
  {
   "cell_type": "code",
   "execution_count": 39,
   "metadata": {},
   "outputs": [
    {
     "ename": "KeyError",
     "evalue": "'alive'",
     "output_type": "error",
     "traceback": [
      "\u001b[1;31m---------------------------------------------------------------------------\u001b[0m",
      "\u001b[1;31mKeyError\u001b[0m                                  Traceback (most recent call last)",
      "File \u001b[1;32md:\\Project2\\Customer-Churn-prediction\\.venv\\lib\\site-packages\\pandas\\core\\indexes\\base.py:3802\u001b[0m, in \u001b[0;36mIndex.get_loc\u001b[1;34m(self, key, method, tolerance)\u001b[0m\n\u001b[0;32m   3801\u001b[0m \u001b[39mtry\u001b[39;00m:\n\u001b[1;32m-> 3802\u001b[0m     \u001b[39mreturn\u001b[39;00m \u001b[39mself\u001b[39;49m\u001b[39m.\u001b[39;49m_engine\u001b[39m.\u001b[39;49mget_loc(casted_key)\n\u001b[0;32m   3803\u001b[0m \u001b[39mexcept\u001b[39;00m \u001b[39mKeyError\u001b[39;00m \u001b[39mas\u001b[39;00m err:\n",
      "File \u001b[1;32md:\\Project2\\Customer-Churn-prediction\\.venv\\lib\\site-packages\\pandas\\_libs\\index.pyx:138\u001b[0m, in \u001b[0;36mpandas._libs.index.IndexEngine.get_loc\u001b[1;34m()\u001b[0m\n",
      "File \u001b[1;32md:\\Project2\\Customer-Churn-prediction\\.venv\\lib\\site-packages\\pandas\\_libs\\index.pyx:165\u001b[0m, in \u001b[0;36mpandas._libs.index.IndexEngine.get_loc\u001b[1;34m()\u001b[0m\n",
      "File \u001b[1;32mpandas\\_libs\\hashtable_class_helper.pxi:5745\u001b[0m, in \u001b[0;36mpandas._libs.hashtable.PyObjectHashTable.get_item\u001b[1;34m()\u001b[0m\n",
      "File \u001b[1;32mpandas\\_libs\\hashtable_class_helper.pxi:5753\u001b[0m, in \u001b[0;36mpandas._libs.hashtable.PyObjectHashTable.get_item\u001b[1;34m()\u001b[0m\n",
      "\u001b[1;31mKeyError\u001b[0m: 'alive'",
      "\nThe above exception was the direct cause of the following exception:\n",
      "\u001b[1;31mKeyError\u001b[0m                                  Traceback (most recent call last)",
      "Cell \u001b[1;32mIn[39], line 1\u001b[0m\n\u001b[1;32m----> 1\u001b[0m new_data[\u001b[39m\"\u001b[39;49m\u001b[39malive\u001b[39;49m\u001b[39m\"\u001b[39;49m]\u001b[39m.\u001b[39mvalue_counts()\n\u001b[0;32m      2\u001b[0m new_data \u001b[39m=\u001b[39m new_data[new_data[\u001b[39m\"\u001b[39m\u001b[39malive\u001b[39m\u001b[39m\"\u001b[39m]\u001b[39m==\u001b[39m\u001b[39mTrue\u001b[39;00m]\u001b[39m.\u001b[39msample(\u001b[39m96991\u001b[39m)\n\u001b[0;32m      3\u001b[0m new_data[\u001b[39m\"\u001b[39m\u001b[39malive\u001b[39m\u001b[39m\"\u001b[39m]\u001b[39m.\u001b[39munique()\n",
      "File \u001b[1;32md:\\Project2\\Customer-Churn-prediction\\.venv\\lib\\site-packages\\pandas\\core\\frame.py:3807\u001b[0m, in \u001b[0;36mDataFrame.__getitem__\u001b[1;34m(self, key)\u001b[0m\n\u001b[0;32m   3805\u001b[0m \u001b[39mif\u001b[39;00m \u001b[39mself\u001b[39m\u001b[39m.\u001b[39mcolumns\u001b[39m.\u001b[39mnlevels \u001b[39m>\u001b[39m \u001b[39m1\u001b[39m:\n\u001b[0;32m   3806\u001b[0m     \u001b[39mreturn\u001b[39;00m \u001b[39mself\u001b[39m\u001b[39m.\u001b[39m_getitem_multilevel(key)\n\u001b[1;32m-> 3807\u001b[0m indexer \u001b[39m=\u001b[39m \u001b[39mself\u001b[39;49m\u001b[39m.\u001b[39;49mcolumns\u001b[39m.\u001b[39;49mget_loc(key)\n\u001b[0;32m   3808\u001b[0m \u001b[39mif\u001b[39;00m is_integer(indexer):\n\u001b[0;32m   3809\u001b[0m     indexer \u001b[39m=\u001b[39m [indexer]\n",
      "File \u001b[1;32md:\\Project2\\Customer-Churn-prediction\\.venv\\lib\\site-packages\\pandas\\core\\indexes\\base.py:3804\u001b[0m, in \u001b[0;36mIndex.get_loc\u001b[1;34m(self, key, method, tolerance)\u001b[0m\n\u001b[0;32m   3802\u001b[0m     \u001b[39mreturn\u001b[39;00m \u001b[39mself\u001b[39m\u001b[39m.\u001b[39m_engine\u001b[39m.\u001b[39mget_loc(casted_key)\n\u001b[0;32m   3803\u001b[0m \u001b[39mexcept\u001b[39;00m \u001b[39mKeyError\u001b[39;00m \u001b[39mas\u001b[39;00m err:\n\u001b[1;32m-> 3804\u001b[0m     \u001b[39mraise\u001b[39;00m \u001b[39mKeyError\u001b[39;00m(key) \u001b[39mfrom\u001b[39;00m \u001b[39merr\u001b[39;00m\n\u001b[0;32m   3805\u001b[0m \u001b[39mexcept\u001b[39;00m \u001b[39mTypeError\u001b[39;00m:\n\u001b[0;32m   3806\u001b[0m     \u001b[39m# If we have a listlike key, _check_indexing_error will raise\u001b[39;00m\n\u001b[0;32m   3807\u001b[0m     \u001b[39m#  InvalidIndexError. Otherwise we fall through and re-raise\u001b[39;00m\n\u001b[0;32m   3808\u001b[0m     \u001b[39m#  the TypeError.\u001b[39;00m\n\u001b[0;32m   3809\u001b[0m     \u001b[39mself\u001b[39m\u001b[39m.\u001b[39m_check_indexing_error(key)\n",
      "\u001b[1;31mKeyError\u001b[0m: 'alive'"
     ]
    }
   ],
   "source": [
    "new_data[\"alive\"].value_counts()\n",
    "new_data = new_data[new_data[\"alive\"]==True].sample(96991)\n",
    "new_data[\"alive\"].unique()\n",
    "new_data = pd.concat([new_data, new_data[new_data[\"alive\"]==False]])\n",
    "new_data['alive'].value_counts()"
   ]
  },
  {
   "cell_type": "code",
   "execution_count": 33,
   "metadata": {},
   "outputs": [
    {
     "name": "stdout",
     "output_type": "stream",
     "text": [
      "Day 30: recall: 0.742, f1: 0.755, precision: 0.767, roc_auc: 0.759\n",
      "Day 31: recall: 0.745, f1: 0.755, precision: 0.766, roc_auc: 0.758\n",
      "Day 32: recall: 0.746, f1: 0.756, precision: 0.765, roc_auc: 0.759\n",
      "Day 33: recall: 0.750, f1: 0.756, precision: 0.763, roc_auc: 0.758\n",
      "Day 34: recall: 0.752, f1: 0.756, precision: 0.761, roc_auc: 0.758\n",
      "Day 35: recall: 0.754, f1: 0.757, precision: 0.760, roc_auc: 0.758\n",
      "Day 36: recall: 0.756, f1: 0.757, precision: 0.759, roc_auc: 0.758\n",
      "Day 37: recall: 0.757, f1: 0.757, precision: 0.758, roc_auc: 0.758\n",
      "Day 38: recall: 0.758, f1: 0.758, precision: 0.757, roc_auc: 0.757\n",
      "Day 39: recall: 0.762, f1: 0.758, precision: 0.755, roc_auc: 0.757\n",
      "Day 40: recall: 0.772, f1: 0.761, precision: 0.750, roc_auc: 0.757\n",
      "Day 41: recall: 0.784, f1: 0.765, precision: 0.746, roc_auc: 0.758\n",
      "Day 42: recall: 0.794, f1: 0.766, precision: 0.741, roc_auc: 0.758\n",
      "Day 43: recall: 0.803, f1: 0.768, precision: 0.736, roc_auc: 0.757\n",
      "Day 44: recall: 0.805, f1: 0.768, precision: 0.735, roc_auc: 0.757\n",
      "Day 45: recall: 0.808, f1: 0.768, precision: 0.732, roc_auc: 0.756\n",
      "Day 46: recall: 0.816, f1: 0.769, precision: 0.728, roc_auc: 0.755\n",
      "Day 47: recall: 0.820, f1: 0.769, precision: 0.724, roc_auc: 0.754\n",
      "Day 48: recall: 0.825, f1: 0.769, precision: 0.720, roc_auc: 0.752\n",
      "Day 49: recall: 0.828, f1: 0.768, precision: 0.716, roc_auc: 0.750\n",
      "Day 50: recall: 0.833, f1: 0.768, precision: 0.712, roc_auc: 0.748\n",
      "Day 51: recall: 0.834, f1: 0.768, precision: 0.712, roc_auc: 0.748\n",
      "Day 52: recall: 0.836, f1: 0.768, precision: 0.710, roc_auc: 0.747\n",
      "Day 53: recall: 0.841, f1: 0.768, precision: 0.707, roc_auc: 0.746\n",
      "Day 54: recall: 0.846, f1: 0.767, precision: 0.703, roc_auc: 0.744\n",
      "Day 55: recall: 0.851, f1: 0.767, precision: 0.698, roc_auc: 0.742\n",
      "Day 56: recall: 0.856, f1: 0.767, precision: 0.695, roc_auc: 0.740\n",
      "Day 57: recall: 0.861, f1: 0.766, precision: 0.691, roc_auc: 0.738\n",
      "Day 58: recall: 0.862, f1: 0.766, precision: 0.690, roc_auc: 0.737\n",
      "Day 59: recall: 0.864, f1: 0.766, precision: 0.688, roc_auc: 0.736\n",
      "Day 60: recall: 0.869, f1: 0.766, precision: 0.685, roc_auc: 0.735\n",
      "Day 61: recall: 0.872, f1: 0.765, precision: 0.682, roc_auc: 0.733\n",
      "Day 62: recall: 0.875, f1: 0.765, precision: 0.680, roc_auc: 0.731\n",
      "Day 63: recall: 0.877, f1: 0.764, precision: 0.677, roc_auc: 0.729\n",
      "Day 64: recall: 0.880, f1: 0.763, precision: 0.674, roc_auc: 0.727\n",
      "Day 65: recall: 0.880, f1: 0.763, precision: 0.674, roc_auc: 0.727\n",
      "Day 66: recall: 0.882, f1: 0.763, precision: 0.672, roc_auc: 0.726\n",
      "Day 67: recall: 0.884, f1: 0.762, precision: 0.670, roc_auc: 0.724\n",
      "Day 68: recall: 0.886, f1: 0.761, precision: 0.667, roc_auc: 0.722\n",
      "Day 69: recall: 0.889, f1: 0.760, precision: 0.664, roc_auc: 0.720\n",
      "Day 70: recall: 0.892, f1: 0.759, precision: 0.661, roc_auc: 0.717\n",
      "Day 71: recall: 0.894, f1: 0.758, precision: 0.659, roc_auc: 0.715\n",
      "Day 72: recall: 0.894, f1: 0.758, precision: 0.658, roc_auc: 0.715\n",
      "Day 73: recall: 0.896, f1: 0.758, precision: 0.657, roc_auc: 0.714\n",
      "Day 74: recall: 0.898, f1: 0.757, precision: 0.654, roc_auc: 0.711\n",
      "Day 75: recall: 0.900, f1: 0.756, precision: 0.651, roc_auc: 0.709\n",
      "Day 76: recall: 0.901, f1: 0.755, precision: 0.649, roc_auc: 0.707\n",
      "Day 77: recall: 0.903, f1: 0.753, precision: 0.646, roc_auc: 0.704\n",
      "Day 78: recall: 0.906, f1: 0.752, precision: 0.644, roc_auc: 0.702\n",
      "Day 79: recall: 0.906, f1: 0.752, precision: 0.643, roc_auc: 0.702\n",
      "Day 80: recall: 0.907, f1: 0.752, precision: 0.642, roc_auc: 0.700\n",
      "Day 81: recall: 0.909, f1: 0.751, precision: 0.640, roc_auc: 0.699\n",
      "Day 82: recall: 0.911, f1: 0.750, precision: 0.638, roc_auc: 0.697\n",
      "Day 83: recall: 0.912, f1: 0.749, precision: 0.635, roc_auc: 0.695\n",
      "Day 84: recall: 0.915, f1: 0.748, precision: 0.633, roc_auc: 0.692\n",
      "Day 85: recall: 0.918, f1: 0.747, precision: 0.630, roc_auc: 0.690\n",
      "Day 86: recall: 0.918, f1: 0.747, precision: 0.630, roc_auc: 0.689\n",
      "Day 87: recall: 0.920, f1: 0.747, precision: 0.628, roc_auc: 0.688\n",
      "Day 88: recall: 0.922, f1: 0.745, precision: 0.626, roc_auc: 0.685\n",
      "Day 89: recall: 0.924, f1: 0.744, precision: 0.623, roc_auc: 0.683\n",
      "Day 90: recall: 0.926, f1: 0.744, precision: 0.621, roc_auc: 0.681\n"
     ]
    }
   ],
   "source": [
    "for day in range(30,91):\n",
    "    last_data_date = new_data['first_buy'].max()\n",
    "    new_data['pred_alive'] = new_data['last_buy'].apply(lambda x: (last_data_date - x).days < day)\n",
    "    recall = recall_score(new_data['alive'], new_data['pred_alive'])\n",
    "    f1 = f1_score(new_data['alive'], new_data['pred_alive'])\n",
    "    precision = precision_score(new_data['alive'], new_data['pred_alive'])\n",
    "    roc_auc = roc_auc_score(new_data['alive'], new_data['pred_alive'])\n",
    "    print(f\"Day {day}: recall: {recall:.3f}, f1: {f1:.3f}, precision: {precision:.3f}, roc_auc: {roc_auc:.3f}\")"
   ]
  },
  {
   "cell_type": "code",
   "execution_count": 22,
   "metadata": {},
   "outputs": [
    {
     "name": "stdout",
     "output_type": "stream",
     "text": [
      "recall: 1.000, f1: 0.838, precision: 0.721, roc_auc: 0.500\n"
     ]
    }
   ],
   "source": [
    "new_data['True']=True\n",
    "recall = recall_score(new_data['alive'], new_data['True'])\n",
    "f1 = f1_score(new_data['alive'], new_data['True'])\n",
    "precision = precision_score(new_data['alive'], new_data['True'])\n",
    "roc_auc = roc_auc_score(new_data['alive'], new_data['True'])\n",
    "print(f\"recall: {recall:.3f}, f1: {f1:.3f}, precision: {precision:.3f}, roc_auc: {roc_auc:.3f}\")"
   ]
  },
  {
   "cell_type": "code",
   "execution_count": 61,
   "metadata": {},
   "outputs": [
    {
     "ename": "ValueError",
     "evalue": "min() arg is an empty sequence",
     "output_type": "error",
     "traceback": [
      "\u001b[1;31m---------------------------------------------------------------------------\u001b[0m",
      "\u001b[1;31mValueError\u001b[0m                                Traceback (most recent call last)",
      "Cell \u001b[1;32mIn[61], line 31\u001b[0m\n\u001b[0;32m     29\u001b[0m \u001b[39m# plot alive_path\u001b[39;00m\n\u001b[0;32m     30\u001b[0m path \u001b[39m=\u001b[39m calculate_alive_path(model, transactions, datetime_col, t, freq)\n\u001b[1;32m---> 31\u001b[0m path_dates \u001b[39m=\u001b[39m pd\u001b[39m.\u001b[39mdate_range(start\u001b[39m=\u001b[39m\u001b[39mmin\u001b[39;49m(transactions[datetime_col]), periods\u001b[39m=\u001b[39m\u001b[39mlen\u001b[39m(path), freq\u001b[39m=\u001b[39mfreq)\n\u001b[0;32m     32\u001b[0m rfm_100\u001b[39m.\u001b[39mloc[partner][\u001b[39m\"\u001b[39m\u001b[39malive_prob\u001b[39m\u001b[39m\"\u001b[39m] \u001b[39m=\u001b[39m path\u001b[39m.\u001b[39miloc[\u001b[39m-\u001b[39m\u001b[39m1\u001b[39m]\n",
      "\u001b[1;31mValueError\u001b[0m: min() arg is an empty sequence"
     ]
    }
   ],
   "source": [
    "from btyd.utils import calculate_alive_path, expected_cumulative_transactions\n",
    "import pandas as pd\n",
    "import numpy as np\n",
    "import pickle\n",
    "\n",
    "from consts import MODEL_PATH_180_DAYS, TRAIN_RAW_PATH, TEST_RAW_PATH, TEST_PATH, TRAIN_PATH\n",
    "\n",
    "data = pd.read_parquet(TRAIN_RAW_PATH)\n",
    "rfm = pd.read_parquet(\"data/train_180.parquet.gzip\")\n",
    "model = pickle.load(open(MODEL_PATH_180_DAYS, \"rb\"))\n",
    "\n",
    "rfm_100 = rfm.sample(100)\n",
    "\n",
    "\n",
    "for partner in rfm_100.index:\n",
    "    t = rfm[\"T\"].max()\n",
    "    transactions = data[data[\"partner\"]==partner]\n",
    "    datetime_col = \"rep_date\"\n",
    "    freq=\"D\"\n",
    "    start_date=None\n",
    "    ax=None\n",
    "\n",
    "    customer_history = transactions[[datetime_col]].copy()\n",
    "    customer_history.index = pd.DatetimeIndex(customer_history[datetime_col])\n",
    "\n",
    "    # Add transactions column\n",
    "    customer_history[\"transactions\"] = 1\n",
    "    customer_history = customer_history.resample(freq).sum()\n",
    "    # plot alive_path\n",
    "    path = calculate_alive_path(model, transactions, datetime_col, t, freq)\n",
    "    path_dates = pd.date_range(start=min(transactions[datetime_col]), periods=len(path), freq=freq)\n",
    "    rfm_100.loc[partner][\"alive_prob\"] = path.iloc[-1]"
   ]
  },
  {
   "cell_type": "code",
   "execution_count": 69,
   "metadata": {},
   "outputs": [
    {
     "data": {
      "text/plain": [
       "444541"
      ]
     },
     "execution_count": 69,
     "metadata": {},
     "output_type": "execute_result"
    }
   ],
   "source": [
    "data[\"partner\"].nunique()"
   ]
  },
  {
   "cell_type": "code",
   "execution_count": 68,
   "metadata": {},
   "outputs": [
    {
     "data": {
      "text/plain": [
       "monetary_value    347497\n",
       "first_buy         347497\n",
       "last_buy          347497\n",
       "count             347497\n",
       "alive             347497\n",
       "frequency         347497\n",
       "recency           347497\n",
       "T                 347497\n",
       "dtype: int64"
      ]
     },
     "execution_count": 68,
     "metadata": {},
     "output_type": "execute_result"
    }
   ],
   "source": [
    "rfm.count()"
   ]
  },
  {
   "cell_type": "code",
   "execution_count": 59,
   "metadata": {},
   "outputs": [
    {
     "data": {
      "text/html": [
       "<div>\n",
       "<style scoped>\n",
       "    .dataframe tbody tr th:only-of-type {\n",
       "        vertical-align: middle;\n",
       "    }\n",
       "\n",
       "    .dataframe tbody tr th {\n",
       "        vertical-align: top;\n",
       "    }\n",
       "\n",
       "    .dataframe thead th {\n",
       "        text-align: right;\n",
       "    }\n",
       "</style>\n",
       "<table border=\"1\" class=\"dataframe\">\n",
       "  <thead>\n",
       "    <tr style=\"text-align: right;\">\n",
       "      <th></th>\n",
       "      <th>partner</th>\n",
       "      <th>rep_date</th>\n",
       "      <th>monetary</th>\n",
       "      <th>is_alive</th>\n",
       "    </tr>\n",
       "  </thead>\n",
       "  <tbody>\n",
       "  </tbody>\n",
       "</table>\n",
       "</div>"
      ],
      "text/plain": [
       "Empty DataFrame\n",
       "Columns: [partner, rep_date, monetary, is_alive]\n",
       "Index: []"
      ]
     },
     "execution_count": 59,
     "metadata": {},
     "output_type": "execute_result"
    }
   ],
   "source": [
    "data[data[\"partner\"]==399080]"
   ]
  },
  {
   "cell_type": "code",
   "execution_count": 49,
   "metadata": {},
   "outputs": [
    {
     "data": {
      "text/plain": [
       "datetime.date(2021, 12, 15)"
      ]
     },
     "execution_count": 49,
     "metadata": {},
     "output_type": "execute_result"
    }
   ],
   "source": [
    "new_data[\"rep_date\"].max()"
   ]
  },
  {
   "cell_type": "code",
   "execution_count": 50,
   "metadata": {},
   "outputs": [
    {
     "data": {
      "text/plain": [
       "DatetimeIndex(['2021-09-12', '2021-09-13', '2021-09-14', '2021-09-15',\n",
       "               '2021-09-16', '2021-09-17', '2021-09-18', '2021-09-19',\n",
       "               '2021-09-20', '2021-09-21',\n",
       "               ...\n",
       "               '2022-06-05', '2022-06-06', '2022-06-07', '2022-06-08',\n",
       "               '2022-06-09', '2022-06-10', '2022-06-11', '2022-06-12',\n",
       "               '2022-06-13', '2022-06-14'],\n",
       "              dtype='datetime64[ns]', length=276, freq='D')"
      ]
     },
     "execution_count": 50,
     "metadata": {},
     "output_type": "execute_result"
    }
   ],
   "source": [
    "path_dates"
   ]
  },
  {
   "cell_type": "code",
   "execution_count": 51,
   "metadata": {},
   "outputs": [
    {
     "data": {
      "text/plain": [
       "0                       [1.0]\n",
       "1                       [1.0]\n",
       "2                       [1.0]\n",
       "3                       [1.0]\n",
       "4                       [1.0]\n",
       "                ...          \n",
       "271    [0.010697097808025224]\n",
       "272     [0.01049327365682833]\n",
       "273    [0.010293994911447994]\n",
       "274     [0.01009914616067771]\n",
       "275    [0.009908615254858292]\n",
       "Length: 276, dtype: object"
      ]
     },
     "execution_count": 51,
     "metadata": {},
     "output_type": "execute_result"
    }
   ],
   "source": [
    "path"
   ]
  },
  {
   "cell_type": "code",
   "execution_count": 52,
   "metadata": {},
   "outputs": [
    {
     "name": "stderr",
     "output_type": "stream",
     "text": [
      "  1%|          | 1/100 [00:02<03:18,  2.00s/it]\n"
     ]
    },
    {
     "ename": "KeyboardInterrupt",
     "evalue": "",
     "output_type": "error",
     "traceback": [
      "\u001b[1;31m---------------------------------------------------------------------------\u001b[0m",
      "\u001b[1;31mKeyboardInterrupt\u001b[0m                         Traceback (most recent call last)",
      "Cell \u001b[1;32mIn[52], line 4\u001b[0m\n\u001b[0;32m      2\u001b[0m \u001b[39mimport\u001b[39;00m \u001b[39mtime\u001b[39;00m\n\u001b[0;32m      3\u001b[0m \u001b[39mfor\u001b[39;00m i \u001b[39min\u001b[39;00m tqdm(\u001b[39mrange\u001b[39m(\u001b[39m100\u001b[39m)):\n\u001b[1;32m----> 4\u001b[0m     time\u001b[39m.\u001b[39;49msleep(\u001b[39m1\u001b[39;49m)\n",
      "\u001b[1;31mKeyboardInterrupt\u001b[0m: "
     ]
    }
   ],
   "source": [
    "from tqdm import tqdm\n",
    "import time\n",
    "for i in tqdm(range(100)):\n",
    "    time.sleep(1)"
   ]
  }
 ],
 "metadata": {
  "kernelspec": {
   "display_name": ".venv",
   "language": "python",
   "name": "python3"
  },
  "language_info": {
   "codemirror_mode": {
    "name": "ipython",
    "version": 3
   },
   "file_extension": ".py",
   "mimetype": "text/x-python",
   "name": "python",
   "nbconvert_exporter": "python",
   "pygments_lexer": "ipython3",
   "version": "3.9.12"
  },
  "orig_nbformat": 4
 },
 "nbformat": 4,
 "nbformat_minor": 2
}
