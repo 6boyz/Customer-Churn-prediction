{
 "cells": [
  {
   "cell_type": "code",
   "execution_count": 1,
   "metadata": {},
   "outputs": [
    {
     "name": "stderr",
     "output_type": "stream",
     "text": [
      "WARNING (aesara.configdefaults): g++ not available, if using conda: `conda install m2w64-toolchain`\n",
      "WARNING (aesara.configdefaults): g++ not detected!  Aesara will be unable to compile C-implementations and will default to Python. Performance may be severely degraded. To remove this warning, set Aesara flags cxx to an empty string.\n",
      "WARNING (aesara.tensor.blas): Using NumPy C-API based implementation for BLAS functions.\n"
     ]
    }
   ],
   "source": [
    "import datetime\n",
    "import pandas as pd\n",
    "import numpy as np\n",
    "from btyd import BetaGeoModel\n",
    "import pickle\n",
    "\n",
    "RFM_PATH = 'data\\\\rfm.parquet.gzip'\n",
    "MODEL_PATH = \"model\\\\rfm.model.pkl\""
   ]
  },
  {
   "cell_type": "code",
   "execution_count": 2,
   "metadata": {},
   "outputs": [],
   "source": [
    "rfm = pd.read_parquet(RFM_PATH)"
   ]
  },
  {
   "cell_type": "code",
   "execution_count": 3,
   "metadata": {},
   "outputs": [
    {
     "ename": "FileNotFoundError",
     "evalue": "[Errno 2] No such file or directory: 'model\\\\rfm_model.pkl'",
     "output_type": "error",
     "traceback": [
      "\u001b[1;31m---------------------------------------------------------------------------\u001b[0m",
      "\u001b[1;31mFileNotFoundError\u001b[0m                         Traceback (most recent call last)",
      "Cell \u001b[1;32mIn[3], line 1\u001b[0m\n\u001b[1;32m----> 1\u001b[0m model \u001b[39m=\u001b[39m pickle\u001b[39m.\u001b[39mload(\u001b[39mopen\u001b[39;49m(MODEL_PATH, \u001b[39m\"\u001b[39;49m\u001b[39mrb\u001b[39;49m\u001b[39m\"\u001b[39;49m))\n",
      "File \u001b[1;32md:\\Project2\\Customer-Churn-prediction\\.venv\\lib\\site-packages\\IPython\\core\\interactiveshell.py:282\u001b[0m, in \u001b[0;36m_modified_open\u001b[1;34m(file, *args, **kwargs)\u001b[0m\n\u001b[0;32m    275\u001b[0m \u001b[39mif\u001b[39;00m file \u001b[39min\u001b[39;00m {\u001b[39m0\u001b[39m, \u001b[39m1\u001b[39m, \u001b[39m2\u001b[39m}:\n\u001b[0;32m    276\u001b[0m     \u001b[39mraise\u001b[39;00m \u001b[39mValueError\u001b[39;00m(\n\u001b[0;32m    277\u001b[0m         \u001b[39mf\u001b[39m\u001b[39m\"\u001b[39m\u001b[39mIPython won\u001b[39m\u001b[39m'\u001b[39m\u001b[39mt let you open fd=\u001b[39m\u001b[39m{\u001b[39;00mfile\u001b[39m}\u001b[39;00m\u001b[39m by default \u001b[39m\u001b[39m\"\u001b[39m\n\u001b[0;32m    278\u001b[0m         \u001b[39m\"\u001b[39m\u001b[39mas it is likely to crash IPython. If you know what you are doing, \u001b[39m\u001b[39m\"\u001b[39m\n\u001b[0;32m    279\u001b[0m         \u001b[39m\"\u001b[39m\u001b[39myou can use builtins\u001b[39m\u001b[39m'\u001b[39m\u001b[39m open.\u001b[39m\u001b[39m\"\u001b[39m\n\u001b[0;32m    280\u001b[0m     )\n\u001b[1;32m--> 282\u001b[0m \u001b[39mreturn\u001b[39;00m io_open(file, \u001b[39m*\u001b[39margs, \u001b[39m*\u001b[39m\u001b[39m*\u001b[39mkwargs)\n",
      "\u001b[1;31mFileNotFoundError\u001b[0m: [Errno 2] No such file or directory: 'model\\\\rfm_model.pkl'"
     ]
    }
   ],
   "source": [
    "model = pickle.load(open(MODEL_PATH, \"rb\"))"
   ]
  },
  {
   "cell_type": "code",
   "execution_count": null,
   "metadata": {},
   "outputs": [],
   "source": [
    "def conditional_probability_alive_matrix(\n",
    "    model, data, max_frequency=None, max_recency=None\n",
    "):\n",
    "\n",
    "    max_frequency = max_frequency or int(data[\"frequency\"].max())\n",
    "    max_recency = max_recency or int(data[\"T\"].max())\n",
    "\n",
    "    return np.fromfunction(\n",
    "        model.conditional_probability_alive,\n",
    "        (max_frequency + 1, max_recency + 1),\n",
    "        T=max_recency,\n",
    "    ).T"
   ]
  },
  {
   "cell_type": "code",
   "execution_count": null,
   "metadata": {},
   "outputs": [],
   "source": [
    "def plot_probability_alive_matrix(\n",
    "    model,\n",
    "    conditional_probability_alive,\n",
    "    max_frequency=None,\n",
    "    max_recency=None,\n",
    "    title=\"Probability Customer is Alive,\\nby Frequency and Recency of a Customer\",\n",
    "    xlabel=\"Customer's Historical Frequency\",\n",
    "    ylabel=\"Customer's Recency\",\n",
    "    **kwargs\n",
    "):\n",
    "\n",
    "    from matplotlib import pyplot as plt\n",
    "\n",
    "    z = conditional_probability_alive\n",
    "\n",
    "    interpolation = kwargs.pop(\"interpolation\", \"none\")\n",
    "\n",
    "    ax = plt.subplot(111)\n",
    "    pcm = ax.imshow(z, interpolation=interpolation, **kwargs)\n",
    "    plt.xlabel(xlabel)\n",
    "    plt.ylabel(ylabel)\n",
    "    plt.title(title)\n",
    "\n",
    "    forceAspect(ax)\n",
    "\n",
    "    plt.colorbar(pcm, ax=ax)\n",
    "\n",
    "    return ax\n",
    "\n",
    "\n",
    "def forceAspect(ax, aspect=1):\n",
    "    im = ax.get_images()\n",
    "    extent = im[0].get_extent()\n",
    "    ax.set_aspect(abs((extent[1] - extent[0]) / (extent[3] - extent[2])) / aspect)"
   ]
  },
  {
   "cell_type": "code",
   "execution_count": null,
   "metadata": {},
   "outputs": [],
   "source": [
    "conditional_probability_alive = conditional_probability_alive_matrix(model, rfm)\n",
    "plot_probability_alive_matrix(model, conditional_probability_alive)"
   ]
  }
 ],
 "metadata": {
  "kernelspec": {
   "display_name": ".venv",
   "language": "python",
   "name": "python3"
  },
  "language_info": {
   "codemirror_mode": {
    "name": "ipython",
    "version": 3
   },
   "file_extension": ".py",
   "mimetype": "text/x-python",
   "name": "python",
   "nbconvert_exporter": "python",
   "pygments_lexer": "ipython3",
   "version": "3.9.12"
  },
  "orig_nbformat": 4
 },
 "nbformat": 4,
 "nbformat_minor": 2
}
