{
 "cells": [
  {
   "cell_type": "code",
   "execution_count": null,
   "metadata": {},
   "outputs": [],
   "source": [
    "import datetime\n",
    "import pandas as pd\n",
    "import numpy as np\n",
    "from consts import PATH, RFM_PATH"
   ]
  },
  {
   "cell_type": "code",
   "execution_count": null,
   "metadata": {},
   "outputs": [],
   "source": [
    "data = pd.read_parquet(PATH)\n",
    "data"
   ]
  },
  {
   "cell_type": "code",
   "execution_count": null,
   "metadata": {},
   "outputs": [],
   "source": [
    "grouped = data.groupby('partner', as_index=True)\n",
    "rfm = pd.concat([\n",
    "    grouped.agg(monetary_value=(\"monetary\", np.mean)),\n",
    "    grouped.agg(first_buy=(\"rep_date\", np.min)),\n",
    "    grouped.agg(last_buy=(\"rep_date\", np.max)),\n",
    "    grouped.agg(count=('partner', np.size))\n",
    "], axis=1)"
   ]
  },
  {
   "cell_type": "code",
   "execution_count": null,
   "metadata": {},
   "outputs": [],
   "source": [
    "last_data_date = datetime.date(day=23, year=2023, month=2)\n",
    "\n",
    "rfm[\"frequency\"] = rfm[\"count\"] - 1\n",
    "rfm[\"recency\"] = rfm[\"last_buy\"] - rfm[\"first_buy\"]\n",
    "rfm[\"T\"] = last_data_date - rfm[\"first_buy\"]"
   ]
  },
  {
   "cell_type": "code",
   "execution_count": null,
   "metadata": {},
   "outputs": [],
   "source": [
    "rfm[\"recency\"] = rfm[\"recency\"].apply(lambda x: x.days)\n",
    "rfm[\"T\"] = rfm[\"T\"].apply(lambda x: x.days)"
   ]
  },
  {
   "cell_type": "code",
   "execution_count": null,
   "metadata": {},
   "outputs": [],
   "source": [
    "rfm.to_parquet(RFM_PATH)"
   ]
  }
 ],
 "metadata": {
  "kernelspec": {
   "display_name": ".venv",
   "language": "python",
   "name": "python3"
  },
  "language_info": {
   "name": "python",
   "version": "3.10.11"
  },
  "orig_nbformat": 4
 },
 "nbformat": 4,
 "nbformat_minor": 2
}
