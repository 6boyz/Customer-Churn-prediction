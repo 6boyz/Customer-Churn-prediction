{
 "cells": [
  {
   "cell_type": "code",
   "execution_count": null,
   "metadata": {},
   "outputs": [],
   "source": [
    "import datetime\n",
    "import pandas as pd\n",
    "import numpy as np\n",
    "\n",
    "PATH = \"data\\\\wallet_urfu.parquet.gzip\"\n",
    "RFM_PATH = \"data\\\\rfm.parquet.gzip\""
   ]
  },
  {
   "cell_type": "code",
   "execution_count": null,
   "metadata": {},
   "outputs": [],
   "source": [
    "data = pd.read_parquet(PATH)\n",
    "data"
   ]
  },
  {
   "cell_type": "code",
   "execution_count": null,
   "metadata": {},
   "outputs": [],
   "source": [
    "rfm = pd.concat([\n",
    "    data.groupby('partner', as_index=True).agg(monetary_value=(\"monetary\", np.mean)),\n",
    "    data.groupby('partner', as_index=True).agg(first_buy=(\"rep_date\", np.min)),\n",
    "    data.groupby('partner', as_index=True).agg(last_buy=(\"rep_date\", np.max)),\n",
    "    data.groupby('partner', as_index=True).agg(count=('partner', np.size))\n",
    "], axis=1)"
   ]
  },
  {
   "cell_type": "code",
   "execution_count": null,
   "metadata": {},
   "outputs": [],
   "source": [
    "last_data_date = datetime.date(day=23, year=2023, month=2)\n",
    "\n",
    "rfm[\"frequency\"] = rfm[\"count\"] - 1\n",
    "rfm[\"recency\"] = rfm[\"last_buy\"] - rfm[\"first_buy\"]\n",
    "rfm[\"T\"] = last_data_date - rfm[\"first_buy\"]"
   ]
  },
  {
   "cell_type": "code",
   "execution_count": null,
   "metadata": {},
   "outputs": [],
   "source": [
    "rfm[\"recency\"] = rfm[\"recency\"].apply(lambda x: x.days)\n",
    "rfm[\"T\"] = rfm[\"T\"].apply(lambda x: x.days)"
   ]
  },
  {
   "cell_type": "code",
   "execution_count": null,
   "metadata": {},
   "outputs": [],
   "source": [
    "rfm.to_parquet(RFM_PATH)"
   ]
  }
 ],
 "metadata": {
  "language_info": {
   "name": "python"
  },
  "orig_nbformat": 4
 },
 "nbformat": 4,
 "nbformat_minor": 2
}
