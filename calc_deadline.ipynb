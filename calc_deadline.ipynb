{
 "cells": [
  {
   "cell_type": "code",
   "execution_count": 7,
   "metadata": {},
   "outputs": [],
   "source": [
    "import pandas as pd\n",
    "import numpy as np\n",
    "\n",
    "PATH = \"data\\\\wallet_urfu.parquet.gzip\"\n",
    "RFM_PATH = \"data\\\\rfm.parquet.gzip\""
   ]
  },
  {
   "cell_type": "code",
   "execution_count": 8,
   "metadata": {},
   "outputs": [],
   "source": [
    "data = pd.read_parquet(PATH)"
   ]
  },
  {
   "cell_type": "code",
   "execution_count": 20,
   "metadata": {},
   "outputs": [],
   "source": [
    "data['lagged_rep_date'] = data.groupby('partner', as_index=True)['rep_date'].shift(-1)\n",
    "data['next_buy'] = data['lagged_rep_date'] - data['rep_date']\n",
    "data['next_buy'] = data['next_buy'].apply(lambda x: x.days)"
   ]
  },
  {
   "cell_type": "code",
   "execution_count": 23,
   "metadata": {},
   "outputs": [],
   "source": [
    "analysis = pd.concat([\n",
    "    data.groupby('partner', as_index=True).agg(D=(\"next_buy\", np.var)),\n",
    "    data.groupby('partner', as_index=True).agg(mean=(\"next_buy\", np.mean)),\n",
    "], axis=1)"
   ]
  },
  {
   "cell_type": "code",
   "execution_count": 24,
   "metadata": {},
   "outputs": [
    {
     "data": {
      "text/html": [
       "<div>\n",
       "<style scoped>\n",
       "    .dataframe tbody tr th:only-of-type {\n",
       "        vertical-align: middle;\n",
       "    }\n",
       "\n",
       "    .dataframe tbody tr th {\n",
       "        vertical-align: top;\n",
       "    }\n",
       "\n",
       "    .dataframe thead th {\n",
       "        text-align: right;\n",
       "    }\n",
       "</style>\n",
       "<table border=\"1\" class=\"dataframe\">\n",
       "  <thead>\n",
       "    <tr style=\"text-align: right;\">\n",
       "      <th></th>\n",
       "      <th>D</th>\n",
       "      <th>mean</th>\n",
       "    </tr>\n",
       "    <tr>\n",
       "      <th>partner</th>\n",
       "      <th></th>\n",
       "      <th></th>\n",
       "    </tr>\n",
       "  </thead>\n",
       "  <tbody>\n",
       "    <tr>\n",
       "      <th>0</th>\n",
       "      <td>146.894697</td>\n",
       "      <td>18.802920</td>\n",
       "    </tr>\n",
       "    <tr>\n",
       "      <th>1</th>\n",
       "      <td>79.272138</td>\n",
       "      <td>9.755639</td>\n",
       "    </tr>\n",
       "    <tr>\n",
       "      <th>2</th>\n",
       "      <td>4887.713033</td>\n",
       "      <td>44.298246</td>\n",
       "    </tr>\n",
       "    <tr>\n",
       "      <th>3</th>\n",
       "      <td>177503.066667</td>\n",
       "      <td>382.333333</td>\n",
       "    </tr>\n",
       "    <tr>\n",
       "      <th>4</th>\n",
       "      <td>3607.798768</td>\n",
       "      <td>14.314607</td>\n",
       "    </tr>\n",
       "    <tr>\n",
       "      <th>...</th>\n",
       "      <td>...</td>\n",
       "      <td>...</td>\n",
       "    </tr>\n",
       "    <tr>\n",
       "      <th>1695379</th>\n",
       "      <td>99946.333333</td>\n",
       "      <td>383.666667</td>\n",
       "    </tr>\n",
       "    <tr>\n",
       "      <th>1695380</th>\n",
       "      <td>47432.000000</td>\n",
       "      <td>227.000000</td>\n",
       "    </tr>\n",
       "    <tr>\n",
       "      <th>1695381</th>\n",
       "      <td>66175.108225</td>\n",
       "      <td>90.818182</td>\n",
       "    </tr>\n",
       "    <tr>\n",
       "      <th>1695382</th>\n",
       "      <td>78.823529</td>\n",
       "      <td>13.666667</td>\n",
       "    </tr>\n",
       "    <tr>\n",
       "      <th>1695383</th>\n",
       "      <td>24.404672</td>\n",
       "      <td>7.509434</td>\n",
       "    </tr>\n",
       "  </tbody>\n",
       "</table>\n",
       "<p>1695384 rows × 2 columns</p>\n",
       "</div>"
      ],
      "text/plain": [
       "                     D        mean\n",
       "partner                           \n",
       "0           146.894697   18.802920\n",
       "1            79.272138    9.755639\n",
       "2          4887.713033   44.298246\n",
       "3        177503.066667  382.333333\n",
       "4          3607.798768   14.314607\n",
       "...                ...         ...\n",
       "1695379   99946.333333  383.666667\n",
       "1695380   47432.000000  227.000000\n",
       "1695381   66175.108225   90.818182\n",
       "1695382      78.823529   13.666667\n",
       "1695383      24.404672    7.509434\n",
       "\n",
       "[1695384 rows x 2 columns]"
      ]
     },
     "execution_count": 24,
     "metadata": {},
     "output_type": "execute_result"
    }
   ],
   "source": [
    "analysis"
   ]
  },
  {
   "cell_type": "code",
   "execution_count": 28,
   "metadata": {},
   "outputs": [
    {
     "data": {
      "text/plain": [
       "<Axes: ylabel='Density'>"
      ]
     },
     "execution_count": 28,
     "metadata": {},
     "output_type": "execute_result"
    },
    {
     "data": {
      "image/png": "[encoded data removed]",
      "text/plain": [
       "<Figure size 640x480 with 1 Axes>"
      ]
     },
     "metadata": {},
     "output_type": "display_data"
    }
   ],
   "source": [
    "analysis['mean'].plot(kind='kde')"
   ]
  },
  {
   "cell_type": "code",
   "execution_count": 29,
   "metadata": {},
   "outputs": [
    {
     "data": {
      "text/plain": [
       "count    1.488443e+06\n",
       "mean     8.571292e+01\n",
       "std      1.694160e+02\n",
       "min      1.000000e+00\n",
       "25%      1.751786e+01\n",
       "50%      3.196296e+01\n",
       "75%      8.136000e+01\n",
       "max      2.596000e+03\n",
       "Name: mean, dtype: float64"
      ]
     },
     "execution_count": 29,
     "metadata": {},
     "output_type": "execute_result"
    }
   ],
   "source": [
    "analysis['mean'].describe()"
   ]
  },
  {
   "cell_type": "code",
   "execution_count": 30,
   "metadata": {},
   "outputs": [
    {
     "data": {
      "text/plain": [
       "count    1.345749e+06\n",
       "mean     2.602535e+04\n",
       "std      1.253247e+05\n",
       "min      0.000000e+00\n",
       "25%      1.158513e+02\n",
       "50%      6.401811e+02\n",
       "75%      5.402476e+03\n",
       "max      3.377400e+06\n",
       "Name: D, dtype: float64"
      ]
     },
     "execution_count": 30,
     "metadata": {},
     "output_type": "execute_result"
    }
   ],
   "source": [
    "analysis['D'].describe()"
   ]
  }
 ],
 "metadata": {
  "kernelspec": {
   "display_name": ".venv",
   "language": "python",
   "name": "python3"
  },
  "language_info": {
   "codemirror_mode": {
    "name": "ipython",
    "version": 3
   },
   "file_extension": ".py",
   "mimetype": "text/x-python",
   "name": "python",
   "nbconvert_exporter": "python",
   "pygments_lexer": "ipython3",
   "version": "3.10.0"
  },
  "orig_nbformat": 4
 },
 "nbformat": 4,
 "nbformat_minor": 2
}
