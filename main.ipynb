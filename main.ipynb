{
 "cells": [
  {
   "cell_type": "code",
   "execution_count": 1,
   "metadata": {},
   "outputs": [],
   "source": [
    "import pandas as pd\n",
    "import btyd as b # https://btyd.readthedocs.io/\n",
    "\n",
    "PATH = 'data\\\\wallet_urfu.parquet.gzip'"
   ]
  },
  {
   "cell_type": "code",
   "execution_count": null,
   "metadata": {},
   "outputs": [],
   "source": [
    "# partner — идентификатор клиента\n",
    "# rep_date — дата пополнения. Запись в кошелек выполняется ежедневно. Нулевые пополнения не записываются. Если у клиента поступления в некоторую дату нет, то запись не производится.\n",
    "# monetary — сумма пополнения. Значения приведены к интервалу 0 — 1."
   ]
  },
  {
   "cell_type": "code",
   "execution_count": 4,
   "metadata": {},
   "outputs": [
    {
     "data": {
      "text/html": [
       "<div>\n",
       "<style scoped>\n",
       "    .dataframe tbody tr th:only-of-type {\n",
       "        vertical-align: middle;\n",
       "    }\n",
       "\n",
       "    .dataframe tbody tr th {\n",
       "        vertical-align: top;\n",
       "    }\n",
       "\n",
       "    .dataframe thead th {\n",
       "        text-align: right;\n",
       "    }\n",
       "</style>\n",
       "<table border=\"1\" class=\"dataframe\">\n",
       "  <thead>\n",
       "    <tr style=\"text-align: right;\">\n",
       "      <th></th>\n",
       "      <th>partner</th>\n",
       "      <th>rep_date</th>\n",
       "      <th>monetary</th>\n",
       "    </tr>\n",
       "  </thead>\n",
       "  <tbody>\n",
       "    <tr>\n",
       "      <th>0</th>\n",
       "      <td>468726</td>\n",
       "      <td>2016-01-02</td>\n",
       "      <td>2.673749e-11</td>\n",
       "    </tr>\n",
       "    <tr>\n",
       "      <th>1</th>\n",
       "      <td>134145</td>\n",
       "      <td>2016-01-02</td>\n",
       "      <td>1.069500e-12</td>\n",
       "    </tr>\n",
       "    <tr>\n",
       "      <th>2</th>\n",
       "      <td>66774</td>\n",
       "      <td>2016-01-02</td>\n",
       "      <td>2.228576e-12</td>\n",
       "    </tr>\n",
       "    <tr>\n",
       "      <th>3</th>\n",
       "      <td>178928</td>\n",
       "      <td>2016-01-02</td>\n",
       "      <td>8.730611e-11</td>\n",
       "    </tr>\n",
       "    <tr>\n",
       "      <th>4</th>\n",
       "      <td>679693</td>\n",
       "      <td>2016-01-02</td>\n",
       "      <td>3.492244e-11</td>\n",
       "    </tr>\n",
       "    <tr>\n",
       "      <th>...</th>\n",
       "      <td>...</td>\n",
       "      <td>...</td>\n",
       "      <td>...</td>\n",
       "    </tr>\n",
       "    <tr>\n",
       "      <th>52032794</th>\n",
       "      <td>636021</td>\n",
       "      <td>2023-02-23</td>\n",
       "      <td>4.365305e-12</td>\n",
       "    </tr>\n",
       "    <tr>\n",
       "      <th>52032795</th>\n",
       "      <td>1408806</td>\n",
       "      <td>2023-02-23</td>\n",
       "      <td>5.896654e-12</td>\n",
       "    </tr>\n",
       "    <tr>\n",
       "      <th>52032796</th>\n",
       "      <td>360238</td>\n",
       "      <td>2023-02-23</td>\n",
       "      <td>4.365305e-12</td>\n",
       "    </tr>\n",
       "    <tr>\n",
       "      <th>52032797</th>\n",
       "      <td>1007996</td>\n",
       "      <td>2023-02-23</td>\n",
       "      <td>6.547958e-13</td>\n",
       "    </tr>\n",
       "    <tr>\n",
       "      <th>52032798</th>\n",
       "      <td>1493496</td>\n",
       "      <td>2023-02-23</td>\n",
       "      <td>2.182653e-12</td>\n",
       "    </tr>\n",
       "  </tbody>\n",
       "</table>\n",
       "<p>52032799 rows × 3 columns</p>\n",
       "</div>"
      ],
      "text/plain": [
       "          partner    rep_date      monetary\n",
       "0          468726  2016-01-02  2.673749e-11\n",
       "1          134145  2016-01-02  1.069500e-12\n",
       "2           66774  2016-01-02  2.228576e-12\n",
       "3          178928  2016-01-02  8.730611e-11\n",
       "4          679693  2016-01-02  3.492244e-11\n",
       "...           ...         ...           ...\n",
       "52032794   636021  2023-02-23  4.365305e-12\n",
       "52032795  1408806  2023-02-23  5.896654e-12\n",
       "52032796   360238  2023-02-23  4.365305e-12\n",
       "52032797  1007996  2023-02-23  6.547958e-13\n",
       "52032798  1493496  2023-02-23  2.182653e-12\n",
       "\n",
       "[52032799 rows x 3 columns]"
      ]
     },
     "execution_count": 4,
     "metadata": {},
     "output_type": "execute_result"
    }
   ],
   "source": [
    "data = pd.read_parquet(PATH)\n",
    "data"
   ]
  }
 ],
 "metadata": {
  "kernelspec": {
   "display_name": ".venv",
   "language": "python",
   "name": "python3"
  },
  "language_info": {
   "codemirror_mode": {
    "name": "ipython",
    "version": 3
   },
   "file_extension": ".py",
   "mimetype": "text/x-python",
   "name": "python",
   "nbconvert_exporter": "python",
   "pygments_lexer": "ipython3",
   "version": "3.10.10"
  },
  "orig_nbformat": 4,
  "vscode": {
   "interpreter": {
    "hash": "27664fc62a6531ba52995db7d4253ad50698977af04c635973e160641621df26"
   }
  }
 },
 "nbformat": 4,
 "nbformat_minor": 2
}
